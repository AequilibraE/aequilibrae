{
 "cells": [
  {
   "cell_type": "markdown",
   "metadata": {},
   "source": [
    "# Test Setup\n",
    "\n",
    "This notebook is used to download and explore the OVM data sets for use in our automated testing environment."
   ]
  },
  {
   "cell_type": "code",
   "execution_count": 5,
   "metadata": {},
   "outputs": [],
   "source": [
    "import os, sys\n",
    "from pathlib import Path\n",
    "aeq_dir = str(Path('../../../../').resolve())\n",
    "if aeq_dir not in sys.path:\n",
    "    sys.path.append(aeq_dir)\n",
    "\n",
    "import pandas as pd\n",
    "import geopandas as gpd\n",
    "import shapely\n",
    "from aequilibrae.project.network.ovm_downloader import OVMDownloader\n"
   ]
  },
  {
   "cell_type": "code",
   "execution_count": 7,
   "metadata": {},
   "outputs": [],
   "source": [
    "test_data_dir = Path(aeq_dir) / \"tests\" / \"data\" / \"overture\" / 'theme=transportation' \n",
    "\n",
    "\n",
    "# ovm_downloader_instance = OVMDownloader([\"car\"], test_data_dir)\n",
    "# ovm_downloader_instance._download_test_data('E:/theme=transportation/type=segment')\n"
   ]
  }
 ],
 "metadata": {
  "kernelspec": {
   "display_name": "venv",
   "language": "python",
   "name": "python3"
  },
  "language_info": {
   "codemirror_mode": {
    "name": "ipython",
    "version": 3
   },
   "file_extension": ".py",
   "mimetype": "text/x-python",
   "name": "python",
   "nbconvert_exporter": "python",
   "pygments_lexer": "ipython3",
   "version": "3.10.12"
  }
 },
 "nbformat": 4,
 "nbformat_minor": 2
}
