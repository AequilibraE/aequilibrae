{
 "cells": [
  {
   "cell_type": "code",
   "execution_count": 1,
   "metadata": {},
   "outputs": [],
   "source": [
    "import os\n",
    "import pathlib\n",
    "import random\n",
    "import sqlite3\n",
    "import string\n",
    "import uuid\n",
    "from random import choice\n",
    "from tempfile import gettempdir\n",
    "from unittest import TestCase\n",
    "\n",
    "import numpy as np\n",
    "import pandas as pd\n",
    "\n",
    "from aequilibrae import TrafficAssignment, TrafficClass, Graph, Project, ODME"
   ]
  },
  {
   "cell_type": "code",
   "execution_count": 2,
   "metadata": {},
   "outputs": [],
   "source": [
    "import warnings\n",
    "warnings.filterwarnings('ignore')"
   ]
  },
  {
   "cell_type": "code",
   "execution_count": 3,
   "metadata": {},
   "outputs": [],
   "source": [
    "# Set up data:\n",
    "proj_path = \"../../data/sioux_falls_single_class\"\n",
    "\n",
    "# Initialise project:\n",
    "project = Project()\n",
    "project.open(proj_path)"
   ]
  },
  {
   "cell_type": "code",
   "execution_count": 4,
   "metadata": {},
   "outputs": [],
   "source": [
    "project.network.build_graphs()\n",
    "car_graph = project.network.graphs[\"c\"]  # type: Graph\n",
    "\n",
    "car_graph.set_graph(\"free_flow_time\")\n",
    "car_graph.set_blocked_centroid_flows(False)\n",
    "matrix = project.matrices.get_matrix(\"demand_omx\")\n",
    "matrix.computational_view()"
   ]
  },
  {
   "cell_type": "code",
   "execution_count": 5,
   "metadata": {},
   "outputs": [
    {
     "name": "stdout",
     "output_type": "stream",
     "text": [
      "None\n",
      "[ 1  2  3  4  5  6  7  8  9 10 11 12 13 14 15 16 17 18 19 20 21 22 23 24]\n",
      "['taz']\n"
     ]
    }
   ],
   "source": [
    "print(matrix.indices)\n",
    "print(matrix.index)\n",
    "print(matrix.index_names)"
   ]
  },
  {
   "cell_type": "code",
   "execution_count": 6,
   "metadata": {},
   "outputs": [],
   "source": [
    " # Initial assignment parameters:\n",
    "assignment = TrafficAssignment()\n",
    "assignclass = TrafficClass(\"car\", car_graph, matrix)\n",
    "assignment.set_classes([assignclass])\n",
    "assignment.set_vdf(\"BPR\")\n",
    "assignment.set_vdf_parameters({\"alpha\": 0.15, \"beta\": 4.0})\n",
    "assignment.set_vdf_parameters({\"alpha\": \"b\", \"beta\": \"power\"})\n",
    "assignment.set_capacity_field(\"capacity\")\n",
    "assignment.set_time_field(\"free_flow_time\")\n",
    "assignment.max_iter = 5\n",
    "assignment.set_algorithm(\"msa\")"
   ]
  },
  {
   "cell_type": "code",
   "execution_count": 7,
   "metadata": {},
   "outputs": [],
   "source": [
    "# Extra data specific to ODME:\n",
    "index = car_graph.nodes_to_indices\n",
    "dims = matrix.matrix_view.shape\n",
    "count_vol_cols = [\"class\", \"link_id\", \"direction\", \"obs_volume\"]"
   ]
  },
  {
   "cell_type": "code",
   "execution_count": 8,
   "metadata": {},
   "outputs": [],
   "source": [
    "matrix.matrix_view = np.zeros(matrix.matrix_view.shape)\n",
    "\n",
    "# Get original flows:.\n",
    "assignment.execute()\n",
    "assign_df = assignment.results().reset_index(drop=False).fillna(0)\n",
    "# SQUISH EXTRA DIMENSION FOR NOW - DEAL WITH THIS PROPERLY LATER ON!!!\n",
    "#matrix.matrix_view = np.squeeze(matrix.matrix_view, axis=2)\n",
    "\n",
    "# Set the observed count volumes:\n",
    "flow = lambda i: assign_df.loc[assign_df[\"link_id\"] == i, \"matrix_ab\"].values[0]\n",
    "links = [1]\n",
    "data=[[\"car\", link, 1, flow(link)] for link in links]\n",
    "count_volumes = pd.DataFrame(\n",
    "    data=data,\n",
    "    columns=count_vol_cols\n",
    ")"
   ]
  },
  {
   "cell_type": "code",
   "execution_count": 9,
   "metadata": {},
   "outputs": [],
   "source": [
    "odme = ODME(assignment, count_volumes)"
   ]
  },
  {
   "cell_type": "code",
   "execution_count": 10,
   "metadata": {},
   "outputs": [],
   "source": [
    "odme.execute()"
   ]
  },
  {
   "cell_type": "code",
   "execution_count": 11,
   "metadata": {},
   "outputs": [],
   "source": [
    "odme.save_to_project(\"test\", \"test.omx\")"
   ]
  },
  {
   "cell_type": "code",
   "execution_count": 13,
   "metadata": {},
   "outputs": [],
   "source": [
    "matrix = project.matrices.get_matrix(\"test\")\n",
    "matrix.computational_view()"
   ]
  },
  {
   "cell_type": "code",
   "execution_count": 14,
   "metadata": {},
   "outputs": [
    {
     "data": {
      "text/plain": [
       "array([[   0.,  100.,  100.,  500.,  200.,  300.,  500.,  800.,  500.,\n",
       "        1300.,  500.,  200.,  500.,  300.,  500.,  500.,  400.,  100.,\n",
       "         300.,  300.,  100.,  400.,  300.,  100.],\n",
       "       [ 100.,    0.,  100.,  200.,  100.,  400.,  200.,  400.,  200.,\n",
       "         600.,  200.,  100.,  300.,  100.,  100.,  400.,  200.,    0.,\n",
       "         100.,  100.,    0.,  100.,    0.,    0.],\n",
       "       [ 100.,  100.,    0.,  200.,  100.,  300.,  100.,  200.,  100.,\n",
       "         300.,  300.,  200.,  100.,  100.,  100.,  200.,  100.,    0.,\n",
       "           0.,    0.,    0.,  100.,  100.,    0.],\n",
       "       [ 500.,  200.,  200.,    0.,  500.,  400.,  400.,  700.,  700.,\n",
       "        1200., 1400.,  600.,  600.,  500.,  500.,  800.,  500.,  100.,\n",
       "         200.,  300.,  200.,  400.,  500.,  200.],\n",
       "       [ 200.,  100.,  100.,  500.,    0.,  200.,  200.,  500.,  800.,\n",
       "        1000.,  500.,  200.,  200.,  100.,  200.,  500.,  200.,    0.,\n",
       "         100.,  100.,  100.,  200.,  100.,    0.],\n",
       "       [ 300.,  400.,  300.,  400.,  200.,    0.,  400.,  800.,  400.,\n",
       "         800.,  400.,  200.,  200.,  100.,  200.,  900.,  500.,  100.,\n",
       "         200.,  300.,  100.,  200.,  100.,  100.],\n",
       "       [ 500.,  200.,  100.,  400.,  200.,  400.,    0., 1000.,  600.,\n",
       "        1900.,  500.,  700.,  400.,  200.,  500., 1400., 1000.,  200.,\n",
       "         400.,  500.,  200.,  500.,  200.,  100.],\n",
       "       [ 800.,  400.,  200.,  700.,  500.,  800., 1000.,    0.,  800.,\n",
       "        1600.,  800.,  600.,  600.,  400.,  600., 2200., 1400.,  300.,\n",
       "         700.,  900.,  400.,  500.,  300.,  200.],\n",
       "       [ 500.,  200.,  100.,  700.,  800.,  400.,  600.,  800.,    0.,\n",
       "        2800., 1400.,  600.,  600.,  600.,  900., 1400.,  900.,  200.,\n",
       "         400.,  600.,  300.,  700.,  500.,  200.],\n",
       "       [1300.,  600.,  300., 1200., 1000.,  800., 1900., 1600., 2800.,\n",
       "           0., 4000., 2000., 1900., 2100., 4000., 4400., 3900.,  700.,\n",
       "        1800., 2500., 1200., 2600., 1800.,  800.],\n",
       "       [ 500.,  200.,  300., 1500.,  500.,  400.,  500.,  800., 1400.,\n",
       "        3900.,    0., 1400., 1000., 1600., 1400., 1400., 1000.,  100.,\n",
       "         400.,  600.,  400., 1100., 1300.,  600.],\n",
       "       [ 200.,  100.,  200.,  600.,  200.,  200.,  700.,  600.,  600.,\n",
       "        2000., 1400.,    0., 1300.,  700.,  700.,  700.,  600.,  200.,\n",
       "         300.,  400.,  300.,  700.,  700.,  500.],\n",
       "       [ 500.,  300.,  100.,  600.,  200.,  200.,  400.,  600.,  600.,\n",
       "        1900., 1000., 1300.,    0.,  600.,  700.,  600.,  500.,  100.,\n",
       "         300.,  600.,  600., 1300.,  800.,  800.],\n",
       "       [ 300.,  100.,  100.,  500.,  100.,  100.,  200.,  400.,  600.,\n",
       "        2100., 1600.,  700.,  600.,    0., 1300.,  700.,  700.,  100.,\n",
       "         300.,  500.,  400., 1200., 1100.,  400.],\n",
       "       [ 500.,  100.,  100.,  500.,  200.,  200.,  500.,  600., 1000.,\n",
       "        4000., 1400.,  700.,  700., 1300.,    0., 1200., 1500.,  200.,\n",
       "         800., 1100.,  800., 2600., 1000.,  400.],\n",
       "       [ 500.,  400.,  200.,  800.,  500.,  900., 1400., 2200., 1400.,\n",
       "        4400., 1400.,  700.,  600.,  700., 1200.,    0., 2800.,  500.,\n",
       "        1300., 1600.,  600., 1200.,  500.,  300.],\n",
       "       [ 400.,  200.,  100.,  500.,  200.,  500., 1000., 1400.,  900.,\n",
       "        3900., 1000.,  600.,  500.,  700., 1500., 2800.,    0.,  600.,\n",
       "        1700., 1700.,  600., 1700.,  600.,  300.],\n",
       "       [ 100.,    0.,    0.,  100.,    0.,  100.,  200.,  300.,  200.,\n",
       "         700.,  200.,  200.,  100.,  100.,  200.,  500.,  600.,    0.,\n",
       "         300.,  400.,  100.,  300.,  100.,    0.],\n",
       "       [ 300.,  100.,    0.,  200.,  100.,  200.,  400.,  700.,  400.,\n",
       "        1800.,  400.,  300.,  300.,  300.,  800., 1300., 1700.,  300.,\n",
       "           0., 1200.,  400., 1200.,  300.,  100.],\n",
       "       [ 300.,  100.,    0.,  300.,  100.,  300.,  500.,  900.,  600.,\n",
       "        2500.,  600.,  500.,  600.,  500., 1100., 1600., 1700.,  400.,\n",
       "        1200.,    0., 1200., 2400.,  700.,  400.],\n",
       "       [ 100.,    0.,    0.,  200.,  100.,  100.,  200.,  400.,  300.,\n",
       "        1200.,  400.,  300.,  600.,  400.,  800.,  600.,  600.,  100.,\n",
       "         400., 1200.,    0., 1800.,  700.,  500.],\n",
       "       [ 400.,  100.,  100.,  400.,  200.,  200.,  500.,  500.,  700.,\n",
       "        2600., 1100.,  700., 1300., 1200., 2600., 1200., 1700.,  300.,\n",
       "        1200., 2400., 1800.,    0., 2100., 1100.],\n",
       "       [ 300.,    0.,  100.,  500.,  100.,  100.,  200.,  300.,  500.,\n",
       "        1800., 1300.,  700.,  800., 1100., 1000.,  500.,  600.,  100.,\n",
       "         300.,  700.,  700., 2100.,    0.,  700.],\n",
       "       [ 100.,    0.,    0.,  200.,    0.,  100.,  100.,  200.,  200.,\n",
       "         800.,  600.,  500.,  700.,  400.,  400.,  300.,  300.,    0.,\n",
       "         100.,  400.,  500., 1100.,  700.,    0.]])"
      ]
     },
     "execution_count": 14,
     "metadata": {},
     "output_type": "execute_result"
    }
   ],
   "source": [
    "matrix.matrix_view"
   ]
  }
 ],
 "metadata": {
  "interpreter": {
   "hash": "acc84914dd5d49aef4abd59151ad776eeaa26fd8e748105fd8228ce1c06cbf3b"
  },
  "kernelspec": {
   "display_name": "Python 3.10.12 ('venv': venv)",
   "language": "python",
   "name": "python3"
  },
  "language_info": {
   "codemirror_mode": {
    "name": "ipython",
    "version": 3
   },
   "file_extension": ".py",
   "mimetype": "text/x-python",
   "name": "python",
   "nbconvert_exporter": "python",
   "pygments_lexer": "ipython3",
   "version": "3.10.12"
  },
  "orig_nbformat": 4
 },
 "nbformat": 4,
 "nbformat_minor": 2
}
