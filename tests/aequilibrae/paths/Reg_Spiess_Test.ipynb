{
 "cells": [
  {
   "cell_type": "code",
   "execution_count": 67,
   "metadata": {},
   "outputs": [],
   "source": [
    "import os\n",
    "import uuid\n",
    "import zipfile\n",
    "from os.path import join, dirname\n",
    "from tempfile import gettempdir\n",
    "from unittest import TestCase\n",
    "import pandas as pd\n",
    "import numpy as np\n",
    "import matplotlib.pyplot as plt\n",
    "import seaborn as sns\n",
    "\n",
    "from aequilibrae import TrafficAssignment, TrafficClass, Graph, Project, ODME\n",
    "from tests.data import siouxfalls_project"
   ]
  },
  {
   "cell_type": "code",
   "execution_count": 68,
   "metadata": {},
   "outputs": [],
   "source": [
    "import warnings\n",
    "warnings.filterwarnings('ignore')"
   ]
  },
  {
   "cell_type": "code",
   "execution_count": 69,
   "metadata": {},
   "outputs": [],
   "source": [
    "# Set up data:\n",
    "os.environ[\"PATH\"] = os.path.join(gettempdir(), \"temp_data\") + \";\" + os.environ[\"PATH\"]\n",
    "proj_path = os.path.join(gettempdir(), \"test_odme_files\" + uuid.uuid4().hex)\n",
    "os.mkdir(proj_path)\n",
    "zipfile.ZipFile(join(dirname(siouxfalls_project), \"sioux_falls_single_class.zip\")).extractall(proj_path)\n",
    "\n",
    "# Initialise project:\n",
    "project = Project()\n",
    "project.open(proj_path)\n",
    "project.network.build_graphs()\n",
    "car_graph = project.network.graphs[\"c\"]  # type: Graph\n",
    "\n",
    "car_graph.set_graph(\"free_flow_time\")\n",
    "car_graph.set_blocked_centroid_flows(False)\n",
    "matrix = project.matrices.get_matrix(\"demand_omx\")\n",
    "matrix.computational_view()\n",
    "\n",
    "# Extra data specific to ODME:\n",
    "index = car_graph.nodes_to_indices\n",
    "dims = matrix.matrix_view.shape\n",
    "count_vol_cols = [\"class\", \"link_id\", \"direction\", \"obs_volume\"]\n",
    "# Still need to add mode/class name to these!!!\n",
    "\n",
    "# Initial assignment parameters:\n",
    "assignment = TrafficAssignment()\n",
    "assignclass = TrafficClass(\"car\", car_graph, matrix)\n",
    "assignment.set_classes([assignclass])\n",
    "assignment.set_vdf(\"BPR\")\n",
    "assignment.set_vdf_parameters({\"alpha\": 0.15, \"beta\": 4.0})\n",
    "assignment.set_vdf_parameters({\"alpha\": \"b\", \"beta\": \"power\"})\n",
    "assignment.set_capacity_field(\"capacity\")\n",
    "assignment.set_time_field(\"free_flow_time\")\n",
    "assignment.max_iter = 5\n",
    "assignment.set_algorithm(\"msa\")"
   ]
  },
  {
   "cell_type": "code",
   "execution_count": 70,
   "metadata": {},
   "outputs": [],
   "source": [
    "algorithm = \"reg_spiess\"\n",
    "\n",
    "# Get original flows:\n",
    "assignment.execute()\n",
    "assign_df = assignment.results().reset_index(drop=False).fillna(0)\n",
    "# SQUISH EXTRA DIMENSION FOR NOW - DEAL WITH THIS PROPERLY LATER ON!!!\n",
    "matrix.matrix_view = np.squeeze(matrix.matrix_view, axis=2)\n",
    "\n",
    "# Set the observed count volumes:\n",
    "flow = lambda i: assign_df.loc[assign_df[\"link_id\"] == i, \"matrix_ab\"].values[0]\n",
    "count_volumes = pd.DataFrame(\n",
    "    data=[[\"car\", i, 1, flow(i)] for i in assign_df[\"link_id\"]],\n",
    "    columns=count_vol_cols\n",
    ")\n",
    "\n",
    "# Store original matrix\n",
    "original_demand = np.copy(matrix.matrix_view)\n",
    "\n",
    "# Perturb original matrix:\n",
    "np.random.seed(0)\n",
    "perturbation = 5 # %\n",
    "perturbation_matrix = np.random.uniform(1 - perturbation/100, 1 + perturbation/100, size=dims)\n",
    "new_matrix = np.round(matrix.matrix_view * perturbation_matrix)"
   ]
  },
  {
   "cell_type": "code",
   "execution_count": 71,
   "metadata": {},
   "outputs": [
    {
     "name": "stdout",
     "output_type": "stream",
     "text": [
      "1 has finished running.\n",
      "2 has finished running.\n",
      "3 has finished running.\n",
      "4 has finished running.\n",
      "5 has finished running.\n",
      "6 has finished running.\n",
      "7 has finished running.\n",
      "8 has finished running.\n",
      "9 has finished running.\n",
      "10 has finished running.\n"
     ]
    }
   ],
   "source": [
    "cumulative_factors = []\n",
    "\n",
    "for i in range(1, 11):\n",
    "    matrix.matrix_view = np.copy(new_matrix)\n",
    "\n",
    "    # Perform ODME:\n",
    "    odme = ODME(assignment,\n",
    "        count_volumes,\n",
    "        stop_crit=(10, 250, 1000, 50),\n",
    "        alpha=i/10,\n",
    "        algorithm=algorithm)\n",
    "    odme.execute()\n",
    "    cumulative_factors.append(odme.get_cumulative_factors())\n",
    "    print(f\"{i} has finished running.\")"
   ]
  },
  {
   "cell_type": "code",
   "execution_count": 72,
   "metadata": {},
   "outputs": [],
   "source": [
    "cumulative_stats = [data.describe() for data in cumulative_factors]"
   ]
  },
  {
   "cell_type": "code",
   "execution_count": 77,
   "metadata": {},
   "outputs": [
    {
     "name": "stdout",
     "output_type": "stream",
     "text": [
      "          Factors\n",
      "count  576.000000\n",
      "mean     1.166273\n",
      "std      2.556551\n",
      "min      0.000040\n",
      "25%      0.097138\n",
      "50%      0.500969\n",
      "75%      1.031250\n",
      "max     28.925358\n",
      "          Factors\n",
      "count  576.000000\n",
      "mean     1.087737\n",
      "std      1.107248\n",
      "min      0.007744\n",
      "25%      0.399883\n",
      "50%      0.934309\n",
      "75%      1.357199\n",
      "max     11.605896\n",
      "          Factors\n",
      "count  576.000000\n",
      "mean     1.110857\n",
      "std      1.851895\n",
      "min      0.000057\n",
      "25%      0.223570\n",
      "50%      0.764190\n",
      "75%      1.288328\n",
      "max     27.092639\n"
     ]
    }
   ],
   "source": [
    "print(cumulative_stats[2])\n",
    "print(cumulative_stats[5])\n",
    "print(cumulative_stats[8])"
   ]
  },
  {
   "cell_type": "code",
   "execution_count": 74,
   "metadata": {},
   "outputs": [],
   "source": [
    "matrix.matrix_view = np.copy(new_matrix)\n",
    "\n",
    "# Perform ODME:\n",
    "odme = ODME(assignment,\n",
    "    count_volumes,\n",
    "    stop_crit=(10, 250, 50, 5),\n",
    "    alpha=i/10,\n",
    "    algorithm=\"spiess\")\n",
    "odme.execute()\n",
    "spiess_cumulative = odme.get_cumulative_factors()"
   ]
  },
  {
   "cell_type": "code",
   "execution_count": 75,
   "metadata": {},
   "outputs": [
    {
     "data": {
      "text/html": [
       "<div>\n",
       "<style scoped>\n",
       "    .dataframe tbody tr th:only-of-type {\n",
       "        vertical-align: middle;\n",
       "    }\n",
       "\n",
       "    .dataframe tbody tr th {\n",
       "        vertical-align: top;\n",
       "    }\n",
       "\n",
       "    .dataframe thead th {\n",
       "        text-align: right;\n",
       "    }\n",
       "</style>\n",
       "<table border=\"1\" class=\"dataframe\">\n",
       "  <thead>\n",
       "    <tr style=\"text-align: right;\">\n",
       "      <th></th>\n",
       "      <th>Factors</th>\n",
       "    </tr>\n",
       "  </thead>\n",
       "  <tbody>\n",
       "    <tr>\n",
       "      <th>count</th>\n",
       "      <td>576.000000</td>\n",
       "    </tr>\n",
       "    <tr>\n",
       "      <th>mean</th>\n",
       "      <td>1.146100</td>\n",
       "    </tr>\n",
       "    <tr>\n",
       "      <th>std</th>\n",
       "      <td>2.122760</td>\n",
       "    </tr>\n",
       "    <tr>\n",
       "      <th>min</th>\n",
       "      <td>0.000617</td>\n",
       "    </tr>\n",
       "    <tr>\n",
       "      <th>25%</th>\n",
       "      <td>0.140346</td>\n",
       "    </tr>\n",
       "    <tr>\n",
       "      <th>50%</th>\n",
       "      <td>0.752702</td>\n",
       "    </tr>\n",
       "    <tr>\n",
       "      <th>75%</th>\n",
       "      <td>1.376337</td>\n",
       "    </tr>\n",
       "    <tr>\n",
       "      <th>max</th>\n",
       "      <td>31.633237</td>\n",
       "    </tr>\n",
       "  </tbody>\n",
       "</table>\n",
       "</div>"
      ],
      "text/plain": [
       "          Factors\n",
       "count  576.000000\n",
       "mean     1.146100\n",
       "std      2.122760\n",
       "min      0.000617\n",
       "25%      0.140346\n",
       "50%      0.752702\n",
       "75%      1.376337\n",
       "max     31.633237"
      ]
     },
     "execution_count": 75,
     "metadata": {},
     "output_type": "execute_result"
    }
   ],
   "source": [
    "spiess_cumulative.describe()"
   ]
  },
  {
   "cell_type": "code",
   "execution_count": 76,
   "metadata": {},
   "outputs": [
    {
     "name": "stderr",
     "output_type": "stream",
     "text": [
      "No artists with labels found to put in legend.  Note that artists whose label start with an underscore are ignored when legend() is called with no argument.\n"
     ]
    },
    {
     "data": {
      "image/png": "[encoded data removed]",
      "text/plain": [
       "<Figure size 640x480 with 1 Axes>"
      ]
     },
     "metadata": {},
     "output_type": "display_data"
    }
   ],
   "source": [
    "# Create a figure and axis\n",
    "fig, ax = plt.subplots()\n",
    "\n",
    "# Loop through each DataFrame in the list\n",
    "for i, df in enumerate(cumulative_factors):\n",
    "    # Plot the box and whisker plot for the current DataFrame\n",
    "    sns.boxplot(x=(i+1)/10, y='Factors', data=df, ax=ax)\n",
    "\n",
    "# Set labels and title\n",
    "ax.set_xlabel('Dataset Index')\n",
    "ax.set_ylabel('Values')\n",
    "ax.set_title('Box and Whisker Plot for Multiple Datasets')\n",
    "\n",
    "# Add legend\n",
    "ax.legend()\n",
    "\n",
    "# Show the plot\n",
    "plt.show()"
   ]
  }
 ],
 "metadata": {
  "interpreter": {
   "hash": "acc84914dd5d49aef4abd59151ad776eeaa26fd8e748105fd8228ce1c06cbf3b"
  },
  "kernelspec": {
   "display_name": "Python 3.10.12 ('venv': venv)",
   "language": "python",
   "name": "python3"
  },
  "language_info": {
   "codemirror_mode": {
    "name": "ipython",
    "version": 3
   },
   "file_extension": ".py",
   "mimetype": "text/x-python",
   "name": "python",
   "nbconvert_exporter": "python",
   "pygments_lexer": "ipython3",
   "version": "3.10.12"
  },
  "orig_nbformat": 4
 },
 "nbformat": 4,
 "nbformat_minor": 2
}
