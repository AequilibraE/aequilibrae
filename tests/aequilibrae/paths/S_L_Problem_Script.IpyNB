{
 "cells": [
  {
   "cell_type": "code",
   "execution_count": 80,
   "metadata": {},
   "outputs": [],
   "source": [
    "import os\n",
    "import uuid\n",
    "import zipfile\n",
    "from os.path import join, dirname\n",
    "from tempfile import gettempdir\n",
    "import numpy as np\n",
    "\n",
    "from aequilibrae import TrafficAssignment, TrafficClass, Graph, Project\n",
    "from tests.data import siouxfalls_project"
   ]
  },
  {
   "cell_type": "code",
   "execution_count": 81,
   "metadata": {},
   "outputs": [],
   "source": [
    "# Set up data:\n",
    "os.environ[\"PATH\"] = os.path.join(gettempdir(), \"temp_data\") + \";\" + os.environ[\"PATH\"]\n",
    "proj_path = os.path.join(gettempdir(), \"test_odme_files\" + uuid.uuid4().hex)\n",
    "os.mkdir(proj_path)\n",
    "zipfile.ZipFile(join(dirname(siouxfalls_project), \"sioux_falls_single_class.zip\")).extractall(proj_path)\n",
    "\n",
    "# Initialise project:\n",
    "project = Project()\n",
    "project.open(proj_path)\n",
    "project.network.build_graphs()\n",
    "car_graph = project.network.graphs[\"c\"]  # type: Graph\n",
    "\n",
    "car_graph.set_graph(\"free_flow_time\")\n",
    "car_graph.set_blocked_centroid_flows(False)\n",
    "matrix = project.matrices.get_matrix(\"demand_omx\")\n",
    "matrix.computational_view()\n",
    "\n",
    "# Initial assignment parameters (with conjugate Frank-Wolfe):\n",
    "assignment = TrafficAssignment()\n",
    "assignclass = TrafficClass(\"car\", car_graph, matrix)\n",
    "assignment.set_classes([assignclass])\n",
    "assignment.set_vdf(\"BPR\")\n",
    "assignment.set_vdf_parameters({\"alpha\": 0.15, \"beta\": 4.0})\n",
    "assignment.set_vdf_parameters({\"alpha\": \"b\", \"beta\": \"power\"})\n",
    "assignment.set_capacity_field(\"capacity\")\n",
    "assignment.set_time_field(\"free_flow_time\")\n",
    "assignment.max_iter = 5\n",
    "assignment.set_algorithm(\"cfw\")"
   ]
  },
  {
   "cell_type": "code",
   "execution_count": 82,
   "metadata": {},
   "outputs": [],
   "source": [
    "assignclass.set_select_links({\"sl_1_1\": [(1, 1)], \"sl_5_1\": [(5, 1)]})\n",
    "assignment.execute()\n",
    "matrix.matrix_view = np.squeeze(matrix.matrix_view, axis=2)"
   ]
  },
  {
   "cell_type": "code",
   "execution_count": 83,
   "metadata": {},
   "outputs": [],
   "source": [
    "assign_df = assignment.results().reset_index(drop=False).fillna(0)\n",
    "sl_matrix_1 = assignclass.results.select_link_od.matrix[\"sl_1_1\"].squeeze()\n",
    "sl_matrix_5 = assignclass.results.select_link_od.matrix[\"sl_5_1\"].squeeze()"
   ]
  },
  {
   "cell_type": "code",
   "execution_count": 84,
   "metadata": {},
   "outputs": [],
   "source": [
    "assigned_flow_1 = assign_df.loc[assign_df[\"link_id\"] == 1, \"matrix_ab\"].values[0]\n",
    "assigned_flow_5 = assign_df.loc[assign_df[\"link_id\"] == 5, \"matrix_ab\"].values[0]\n",
    "sl_flow_1 = np.sum(sl_matrix_1)\n",
    "sl_flow_5 = np.sum(sl_matrix_5)"
   ]
  },
  {
   "cell_type": "code",
   "execution_count": 85,
   "metadata": {},
   "outputs": [
    {
     "name": "stdout",
     "output_type": "stream",
     "text": [
      "Assigned 1:  6971.29633565599\n",
      "Select Link 1:  5878.615489421606\n",
      "Assigned 5:  10627.825456440407\n",
      "Select Link 5:  9535.144610206024\n"
     ]
    }
   ],
   "source": [
    "print(\"Assigned 1: \", assigned_flow_1)\n",
    "print(\"Select Link 1: \", sl_flow_1)\n",
    "\n",
    "print(\"Assigned 5: \", assigned_flow_5)\n",
    "print(\"Select Link 5: \", sl_flow_5)"
   ]
  },
  {
   "cell_type": "code",
   "execution_count": 86,
   "metadata": {},
   "outputs": [
    {
     "ename": "AssertionError",
     "evalue": "",
     "output_type": "error",
     "traceback": [
      "\u001b[0;31m---------------------------------------------------------------------------\u001b[0m",
      "\u001b[0;31mAssertionError\u001b[0m                            Traceback (most recent call last)",
      "Cell \u001b[0;32mIn[86], line 1\u001b[0m\n\u001b[0;32m----> 1\u001b[0m \u001b[38;5;28;01massert\u001b[39;00m assigned_flow_1 \u001b[38;5;241m==\u001b[39m sl_flow_1\n\u001b[1;32m      2\u001b[0m \u001b[38;5;28;01massert\u001b[39;00m assigned_flow_5 \u001b[38;5;241m==\u001b[39m sl_flow_5\n",
      "\u001b[0;31mAssertionError\u001b[0m: "
     ]
    }
   ],
   "source": [
    "assert assigned_flow_1 == sl_flow_1\n",
    "assert assigned_flow_5 == sl_flow_5"
   ]
  }
 ],
 "metadata": {
  "interpreter": {
   "hash": "acc84914dd5d49aef4abd59151ad776eeaa26fd8e748105fd8228ce1c06cbf3b"
  },
  "kernelspec": {
   "display_name": "Python 3.10.12 ('venv': venv)",
   "language": "python",
   "name": "python3"
  },
  "language_info": {
   "codemirror_mode": {
    "name": "ipython",
    "version": 3
   },
   "file_extension": ".py",
   "mimetype": "text/x-python",
   "name": "python",
   "nbconvert_exporter": "python",
   "pygments_lexer": "ipython3",
   "version": "3.10.12"
  },
  "orig_nbformat": 4
 },
 "nbformat": 4,
 "nbformat_minor": 2
}
