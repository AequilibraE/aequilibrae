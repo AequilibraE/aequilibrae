{
 "cells": [
  {
   "cell_type": "code",
   "execution_count": null,
   "metadata": {},
   "outputs": [],
   "source": [
    "# Final Script to create plots to put into the documentation.\n",
    "\n",
    "import os\n",
    "import uuid\n",
    "import zipfile\n",
    "from os.path import join, dirname\n",
    "from tempfile import gettempdir\n",
    "import pandas as pd\n",
    "import numpy as np\n",
    "import matplotlib.pyplot as plt\n",
    "import seaborn as sns\n",
    "import random\n",
    "\n",
    "from aequilibrae import TrafficAssignment, TrafficClass, Graph, Project, ODME\n",
    "from tests.data import siouxfalls_project\n",
    "\n",
    "import warnings\n",
    "warnings.filterwarnings('ignore')"
   ]
  },
  {
   "cell_type": "markdown",
   "metadata": {},
   "source": [
    "To begin ODME - open the relevant project and demand matrix, and create the relevant graphs with any desired parameters.Here we use a sample project from 'Sioux Falls' with a single car user class. ODME can be performed with multiple user classes (although not multiple cores per class for the moment)."
   ]
  },
  {
   "cell_type": "code",
   "execution_count": null,
   "metadata": {},
   "outputs": [],
   "source": [
    "os.environ[\"PATH\"] = os.path.join(gettempdir(), \"temp_data\") + \";\" + os.environ[\"PATH\"]\n",
    "proj_path = os.path.join(gettempdir(), \"test_odme_files\" + uuid.uuid4().hex)\n",
    "os.mkdir(proj_path)\n",
    "zipfile.ZipFile(join(dirname(siouxfalls_project), \"sioux_falls_single_class.zip\")).extractall(proj_path)\n",
    "\n",
    "project = Project()\n",
    "project.open(proj_path)\n",
    "project.network.build_graphs()\n",
    "car_graph = project.network.graphs[\"c\"]  # type: Graph\n",
    "\n",
    "car_graph.set_graph(\"free_flow_time\")\n",
    "car_graph.set_blocked_centroid_flows(False)\n",
    "matrix = project.matrices.get_matrix(\"demand_omx\")\n",
    "matrix.computational_view() # Make sure to set the computational view appropriately."
   ]
  },
  {
   "cell_type": "markdown",
   "metadata": {},
   "source": [
    "The user must create a TrafficAssignment & TrafficClass objects and set their desired assignment parameters this is the assignment ODME will use when trying to make the assigned volumes conform to the user input count volumes. If an invalid assignment object is given ODME will not guarantee any particular behaviour - see TrafficAssignment (REFERENCE HERE) for more information on that."
   ]
  },
  {
   "cell_type": "code",
   "execution_count": null,
   "metadata": {},
   "outputs": [],
   "source": [
    "assignment = TrafficAssignment()\n",
    "assignclass = TrafficClass(\"car\", car_graph, matrix)\n",
    "assignment.set_classes([assignclass])\n",
    "assignment.set_vdf(\"BPR\")\n",
    "assignment.set_vdf_parameters({\"alpha\": 0.15, \"beta\": 4.0})\n",
    "assignment.set_vdf_parameters({\"alpha\": \"b\", \"beta\": \"power\"})\n",
    "assignment.set_capacity_field(\"capacity\")\n",
    "assignment.set_time_field(\"free_flow_time\")\n",
    "assignment.max_iter = 5\n",
    "\n",
    "# NOTE - Until Issue #493 is resolved algorithms cfw & bfw cannot be used for assignment.\n",
    "assignment.set_algorithm(\"msa\")"
   ]
  },
  {
   "cell_type": "markdown",
   "metadata": {},
   "source": [
    "Now we need to produce a set of count data - in practise this will be determined experimentally. For now, we will run an assignment and change the assigned volumes by up to 5% (this will ensure the ODME procedure has something to do) for an arbitrarily chosen set of links to synthetically generate our data. See TrafficAssignment (REFERENCE HERE) for information on the assignment execution."
   ]
  },
  {
   "cell_type": "code",
   "execution_count": null,
   "metadata": {},
   "outputs": [],
   "source": [
    "# The set of links for our counts:\n",
    "links = [1, 9, 14, 17, 35, 38]\n",
    "\n",
    "assignment.execute()\n",
    "assign_df = assignment.results().reset_index(drop=False).fillna(0)\n",
    "flow = lambda link: assign_df.loc[assign_df[\"link_id\"] == link, \"matrix_ab\"].values[0]\n",
    "\n",
    "# The columns to our data dataframe must be: 'class', 'link_id', 'direction', 'obs_volume'\n",
    "# where 'obs_volume' is the count data.\n",
    "columns = ODME.COUNT_VOLUME_COLS\n",
    "\n",
    "# Synthetically generated data (changing counts by upto 5%):\n",
    "random.seed(0)\n",
    "data = [[\"car\", link, 1, flow(link) * random.uniform(0.95, 1.05)] for link in links]\n",
    "\n",
    "counts = pd.DataFrame(data=data, columns=columns)"
   ]
  },
  {
   "cell_type": "markdown",
   "metadata": {},
   "source": [
    "Now that we have generated our data, we can now set our parameters for ODME. Feel free to use any of the algorithms available (see ODME.ALL_ALGORITHMS) and experiment with the stopping criteria. Stopping criteria if specified must be in the format shown below."
   ]
  },
  {
   "cell_type": "code",
   "execution_count": null,
   "metadata": {},
   "outputs": [],
   "source": [
    "stop_crit = {\"max_outer\": 5,\n",
    "    \"max_inner\": 20,\n",
    "    \"convergence_crit\": 1.0,\n",
    "    \"inner_convergence\": 0.1}\n",
    "\n",
    "odme = ODME(assignment,\n",
    "    counts,\n",
    "    stop_crit=stop_crit,\n",
    "    algorithm=\"spiess\",\n",
    "    verbose=True # Verbose allows us to track the progress of ODME as it occurs\n",
    "    )"
   ]
  },
  {
   "cell_type": "markdown",
   "metadata": {},
   "source": [
    "We can now run the ODME procedure. Note that when we execute ODME it will make a copy of all input matrices and leave the original matrices unchanged."
   ]
  },
  {
   "cell_type": "code",
   "execution_count": null,
   "metadata": {},
   "outputs": [],
   "source": [
    "odme.execute()"
   ]
  },
  {
   "cell_type": "markdown",
   "metadata": {},
   "source": [
    "From here, we can now process the results - if we wish to we can save the results using the save_to_project() method which will both save the results and generate a procedure report (NOT YET IMPLEMENTED). Otherwise, we can use the other methods below to extract and then visualise the results without saving them. To access the matrices themselves directly use the TrafficAssignment object to access the new TrafficClasses within which the matrices are contained."
   ]
  },
  {
   "cell_type": "code",
   "execution_count": null,
   "metadata": {},
   "outputs": [],
   "source": [
    "# To get the demand matrices as a list of numpy arrays:\n",
    "new_demands = odme.get_demands()\n",
    "\n",
    "# A dataframe containing extensive statistics for each count volume and iteration:\n",
    "stats = odme.get_all_statistics()\n",
    "\n",
    "# A dataframe containing summary statistics on the factors applied to each demand matrix over each iteration:\n",
    "iterative_factors = odme.get_iteration_factors()\n",
    "\n",
    "# An unordered list of cumulative factors applied to each demand matrix\n",
    "# (the same as dividing the final demand matrix by the initial demand)\n",
    "cumulative_factors = odme.get_cumulative_factors()\n",
    "\n",
    "# If we wish to save the project we can call the following function -\n",
    "# (saving as both .omx or .aem are supported)\n",
    "odme.save_to_project(\"example_doc\", \"example_doc.omx\", project=project)"
   ]
  },
  {
   "cell_type": "markdown",
   "metadata": {},
   "source": [
    "From here the results can be analysed by the user - we will provide a few sample plots of what can be visualised."
   ]
  },
  {
   "cell_type": "code",
   "execution_count": null,
   "metadata": {},
   "outputs": [],
   "source": [
    "matrix.close()\n",
    "project.close()"
   ]
  }
 ],
 "metadata": {
  "interpreter": {
   "hash": "acc84914dd5d49aef4abd59151ad776eeaa26fd8e748105fd8228ce1c06cbf3b"
  },
  "kernelspec": {
   "display_name": "Python 3.10.12 ('venv': venv)",
   "language": "python",
   "name": "python3"
  },
  "language_info": {
   "name": "python",
   "version": "3.10.12"
  },
  "orig_nbformat": 4
 },
 "nbformat": 4,
 "nbformat_minor": 2
}
