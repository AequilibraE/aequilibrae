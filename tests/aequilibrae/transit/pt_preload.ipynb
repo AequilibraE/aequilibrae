{
 "cells": [
  {
   "cell_type": "code",
   "execution_count": 1,
   "metadata": {},
   "outputs": [],
   "source": [
    "# Imports\n",
    "from uuid import uuid4\n",
    "from os import remove\n",
    "from os.path import join\n",
    "from tempfile import gettempdir\n",
    "import numpy as np\n",
    "\n",
    "import pandas as pd\n",
    "from aequilibrae.project.database_connection import database_connection\n",
    "from aequilibrae.utils.db_utils import read_and_close\n",
    "\n",
    "from aequilibrae.transit import Transit\n",
    "from aequilibrae.paths import TrafficAssignment, TrafficClass, Graph\n",
    "from aequilibrae.utils.create_example import create_example\n",
    "from aequilibrae.matrix import AequilibraeMatrix\n",
    "from aequilibrae.project import Project\n",
    "\n",
    "\n",
    "# TODO:\n",
    "# 1. Figure out the capacity vector and ordering etc.\n",
    "# 2. Update reference files so tests work\n",
    "# 3. Build PC, understand how venv's and wsl system works from ground up, ubuntu 22.04, \n",
    "# 4. Remove this notebook from git.\n",
    "\n",
    "# Rewrite TODO's!\n",
    "\n",
    "# CHANGE DOCUMENTATION - WE HAVE TO ADD THE PRELOADS BEFORE SETTING THE ALGORITHM?"
   ]
  },
  {
   "cell_type": "code",
   "execution_count": 2,
   "metadata": {},
   "outputs": [
    {
     "name": "stdout",
     "output_type": "stream",
     "text": [
      "/data/aequilibrae/models/coquimbo_updated\n"
     ]
    }
   ],
   "source": [
    "fldr = \"/data/aequilibrae/models/coquimbo_updated\"\n",
    "print(fldr)\n",
    "project = Project.from_path(fldr)"
   ]
  },
  {
   "cell_type": "code",
   "execution_count": 3,
   "metadata": {},
   "outputs": [],
   "source": [
    "# Build temporary updated coquimbo file\n",
    "\n",
    "# fldr = \"/data/aequilibrae/models/coquimbo_updated\"\n",
    "# project = create_example(fldr, \"coquimbo\")\n",
    "\n",
    "# remove(join(fldr, \"public_transport.sqlite\"))\n",
    "# dest_path = join(fldr, \"gtfs_coquimbo.zip\")\n",
    "\n",
    "# data = Transit(project)\n",
    "\n",
    "# transit = data.new_gtfs_builder(agency=\"Lisanco\", file_path=dest_path)\n",
    "\n",
    "# transit.load_date(\"2016-04-13\")\n",
    "\n",
    "# # Now we execute the map matching to find the real paths.\n",
    "# # Depending on the GTFS size, this process can be really time-consuming.\n",
    "# transit.set_allow_map_match(True)\n",
    "# transit.map_match()\n",
    "\n",
    "# # Finally, we save our GTFS into our model.\n",
    "# transit.save_to_disk()"
   ]
  },
  {
   "cell_type": "code",
   "execution_count": 4,
   "metadata": {},
   "outputs": [
    {
     "name": "stderr",
     "output_type": "stream",
     "text": [
      "/home/ubuntu/git/aequilibrae/aequilibrae/project/network/network.py:343: FutureWarning: Downcasting object dtype arrays on .fillna, .ffill, .bfill is deprecated and will change in a future version. Call result.infer_objects(copy=False) instead. To opt-in to the future behavior, set `pd.set_option('future.no_silent_downcasting', True)`\n",
      "  df = pd.read_sql(sql, conn).fillna(value=np.nan)\n"
     ]
    }
   ],
   "source": [
    "# Attempt to build preload with new pce column\n",
    "\n",
    "project.network.build_graphs()\n",
    "project.activate()\n",
    "\n",
    "g = project.network.graphs[\"c\"]\n",
    "g.set_skimming([\"travel_time\"])\n",
    "g.set_graph(\"travel_time\")\n",
    "g.set_blocked_centroid_flows(False)\n",
    "g.graph[\"capacity\"] = 500\n",
    "g.graph[\"travel_time\"] = g.graph[\"distance\"] / 50\n",
    "\n",
    "\n",
    "inclusion_cond = \"start\""
   ]
  },
  {
   "cell_type": "code",
   "execution_count": 5,
   "metadata": {},
   "outputs": [],
   "source": [
    "n_zones = g.centroids.shape[0]\n",
    "matrix = AequilibraeMatrix()\n",
    "matrix.create_empty(zones=n_zones, matrix_names=[\"car\"])\n",
    "matrix.index = g.centroids\n",
    "\n",
    "matrix.matrices[:, :, 0] = 5  # 5 trips from each OD should cause a little bit of congestion\n",
    "matrix.computational_view(\"car\")"
   ]
  },
  {
   "cell_type": "code",
   "execution_count": 6,
   "metadata": {},
   "outputs": [],
   "source": [
    "transit = Transit(project)"
   ]
  },
  {
   "cell_type": "code",
   "execution_count": 7,
   "metadata": {},
   "outputs": [],
   "source": [
    "def _assignment(graph, demand: AequilibraeMatrix, preload=None, name=None) -> TrafficAssignment:\n",
    "    # Create assignment and set parameters\n",
    "    assignment = TrafficAssignment()\n",
    "    assignment.set_classes([TrafficClass(\"car\", graph, demand)])\n",
    "\n",
    "    if preload is not None: # Note -> preload has to be added before we set the assignment algorithm\n",
    "        assignment.add_preload(preload, name=name)\n",
    "\n",
    "    assignment.set_vdf(\"BPR\")\n",
    "    assignment.set_vdf_parameters({\"alpha\": 0.15, \"beta\": 4.0})\n",
    "    assignment.set_capacity_field(\"capacity\")\n",
    "    assignment.set_time_field(\"travel_time\")\n",
    "    assignment.max_iter = 1  # AON assignment\n",
    "    assignment.set_algorithm(\"msa\")\n",
    "\n",
    "    return assignment\n",
    "\n",
    "def hr_to_sec(e):\n",
    "    return int(e * 60 * 60)\n",
    "\n",
    "def calc_preload(transit: Transit, start, end):\n",
    "    return transit.build_pt_preload(hr_to_sec(start), hr_to_sec(end), inclusion_cond=\"start\")"
   ]
  },
  {
   "cell_type": "code",
   "execution_count": 8,
   "metadata": {},
   "outputs": [],
   "source": [
    "def test_building_pt_preload(graph: Graph, demand: AequilibraeMatrix, transit: Transit):\n",
    "    \"\"\"\n",
    "    Check that building pt preload works correctly for a basic example from\n",
    "    the coquimbo network.\n",
    "    \"\"\"\n",
    "    preloads = [calc_preload(transit, start, end) for start, end in [(7, 8), (6.5, 8.5), (5, 10)]]\n",
    "\n",
    "    # Check preloads increase in size as time period increases\n",
    "    assert preloads[0]['preload'].sum() == 12484\n",
    "    assert preloads[1]['preload'].sum() == 21264\n",
    "    assert preloads[2]['preload'].sum() == 39696\n",
    "\n",
    "    assignment = _assignment(graph, demand, preload=preloads[0])\n",
    "    assert len(assignment.preloads) == len(graph.graph)\n",
    "\n",
    "test_building_pt_preload(g, matrix, transit)"
   ]
  },
  {
   "cell_type": "code",
   "execution_count": null,
   "metadata": {},
   "outputs": [],
   "source": [
    "def test_run(graph: Graph, demand: AequilibraeMatrix, transit: Transit):\n",
    "    \"\"\"Tests a full run through of pt preloading.\"\"\"\n",
    "\n",
    "    preload = calc_preload(transit, 7, 8)\n",
    "\n",
    "    # Run non-preloaded assignment and get results\n",
    "    without_assig = _assignment(graph, demand)\n",
    "    without_assig.execute()\n",
    "    without_res = without_assig.results()\n",
    "\n",
    "    # Run preloaded assignment and get results\n",
    "    with_assig = _assignment(graph, demand, preload=preload)\n",
    "    with_assig.execute()\n",
    "    with_res = with_assig.results()\n",
    "\n",
    "    # Check that average delay increases (ie the preload has reduced speeds)\n",
    "    print(with_res[\"Delay_factor_AB\"].mean())\n",
    "    print(without_res[\"Delay_factor_AB\"].mean())\n",
    "    assert with_res[\"Delay_factor_AB\"].mean() > without_res[\"Delay_factor_AB\"].mean()\n",
    "    \n",
    "test_run(g, matrix, transit)"
   ]
  },
  {
   "cell_type": "code",
   "execution_count": null,
   "metadata": {},
   "outputs": [],
   "source": [
    "# %%\n",
    "matrix.close()\n",
    "project.close()"
   ]
  }
 ],
 "metadata": {
  "kernelspec": {
   "display_name": "Python 3",
   "language": "python",
   "name": "python3"
  },
  "language_info": {
   "codemirror_mode": {
    "name": "ipython",
    "version": 3
   },
   "file_extension": ".py",
   "mimetype": "text/x-python",
   "name": "python",
   "nbconvert_exporter": "python",
   "pygments_lexer": "ipython3",
   "version": "3.10.12"
  }
 },
 "nbformat": 4,
 "nbformat_minor": 2
}
