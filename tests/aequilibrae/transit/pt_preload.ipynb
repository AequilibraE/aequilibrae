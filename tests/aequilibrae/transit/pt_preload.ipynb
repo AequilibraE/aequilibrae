{
 "cells": [
  {
   "cell_type": "code",
   "execution_count": null,
   "metadata": {},
   "outputs": [],
   "source": [
    "# Imports\n",
    "from uuid import uuid4\n",
    "from os import remove\n",
    "from os.path import join\n",
    "from tempfile import gettempdir\n",
    "import numpy as np\n",
    "\n",
    "import pandas as pd\n",
    "from aequilibrae.project.database_connection import database_connection\n",
    "from aequilibrae.utils.db_utils import read_and_close\n",
    "\n",
    "from aequilibrae.transit import Transit\n",
    "from aequilibrae.paths import TrafficAssignment, TrafficClass\n",
    "from aequilibrae.utils.create_example import create_example\n",
    "from aequilibrae.matrix import AequilibraeMatrix\n",
    "\n",
    "\n",
    "# TODO:\n",
    "# 1. Figure out the capacity vector and ordering etc.\n",
    "# 2. Update reference files so tests work\n",
    "# 3. Build PC, understand how venv's and wsl system works from ground up, ubuntu 22.04, \n",
    "# 4. Remove this notebook from git.\n",
    "\n",
    "# Rewrite TODO's!"
   ]
  },
  {
   "cell_type": "code",
   "execution_count": null,
   "metadata": {},
   "outputs": [],
   "source": [
    "# Build temporary updated coquimbo file\n",
    "\n",
    "fldr = join(gettempdir(), uuid4().hex)\n",
    "print(fldr)\n",
    "project = create_example(fldr, \"coquimbo\")\n",
    "\n",
    "remove(join(fldr, \"public_transport.sqlite\"))\n",
    "dest_path = join(fldr, \"gtfs_coquimbo.zip\")\n",
    "\n",
    "data = Transit(project)\n",
    "\n",
    "transit = data.new_gtfs_builder(agency=\"Lisanco\", file_path=dest_path)\n",
    "\n",
    "transit.load_date(\"2016-04-13\")\n",
    "\n",
    "# Now we execute the map matching to find the real paths.\n",
    "# Depending on the GTFS size, this process can be really time-consuming.\n",
    "transit.set_allow_map_match(True)\n",
    "transit.map_match()\n",
    "\n",
    "# Finally, we save our GTFS into our model.\n",
    "transit.save_to_disk()"
   ]
  },
  {
   "cell_type": "code",
   "execution_count": null,
   "metadata": {},
   "outputs": [],
   "source": [
    "# Attempt to build preload with new pce column\n",
    "\n",
    "project.network.build_graphs()\n",
    "project.activate()\n",
    "\n",
    "g = project.network.graphs[\"c\"]\n",
    "g.set_skimming([\"travel_time\"])\n",
    "g.set_graph(\"travel_time\")\n",
    "g.set_blocked_centroid_flows(False)\n",
    "g.graph[\"capacity\"] = 500\n",
    "g.graph[\"travel_time\"] = g.graph[\"distance\"] / 50\n",
    "\n",
    "def hr_to_sec(e):\n",
    "    return int(e * 60 * 60)\n",
    "\n",
    "start = hr_to_sec(7)\n",
    "end = hr_to_sec(8)\n",
    "inclusion_cond = \"start\""
   ]
  },
  {
   "cell_type": "code",
   "execution_count": null,
   "metadata": {},
   "outputs": [],
   "source": [
    "n_zones = g.centroids.shape[0]\n",
    "matrix = AequilibraeMatrix()\n",
    "matrix.create_empty(zones=n_zones, matrix_names=[\"car\"])\n",
    "matrix.index = g.centroids\n",
    "\n",
    "matrix.matrices[:, :, 0] = 5  # 5 trips from each OD should cause a little bit of congestion\n",
    "matrix.computational_view(\"car\")"
   ]
  },
  {
   "cell_type": "code",
   "execution_count": null,
   "metadata": {},
   "outputs": [],
   "source": [
    "assignment = TrafficAssignment()\n",
    "assignment.set_classes([TrafficClass(\"car\", g, matrix)])\n",
    "\n",
    "assignment.set_vdf(\"BPR\")\n",
    "assignment.set_vdf_parameters({\"alpha\": 0.15, \"beta\": 4.0})\n",
    "assignment.set_capacity_field(\"capacity\")\n",
    "assignment.set_time_field(\"travel_time\")\n",
    "assignment.max_iter = 1  # AON assignment\n",
    "assignment.set_algorithm(\"msa\")"
   ]
  },
  {
   "cell_type": "code",
   "execution_count": null,
   "metadata": {},
   "outputs": [],
   "source": [
    "transit = Transit(project)\n",
    "preload = transit.build_pt_preload(start, end, inclusion_cond=inclusion_cond)\n",
    "preload"
   ]
  },
  {
   "cell_type": "code",
   "execution_count": null,
   "metadata": {},
   "outputs": [],
   "source": [
    "assignment.add_preload(preload)\n",
    "assignment.preloads"
   ]
  },
  {
   "cell_type": "code",
   "execution_count": null,
   "metadata": {},
   "outputs": [],
   "source": [
    "# %%\n",
    "matrix.close()\n",
    "project.close()"
   ]
  }
 ],
 "metadata": {
  "kernelspec": {
   "display_name": "Python 3",
   "language": "python",
   "name": "python3"
  },
  "language_info": {
   "codemirror_mode": {
    "name": "ipython",
    "version": 3
   },
   "file_extension": ".py",
   "mimetype": "text/x-python",
   "name": "python",
   "nbconvert_exporter": "python",
   "pygments_lexer": "ipython3",
   "version": "3.10.12"
  }
 },
 "nbformat": 4,
 "nbformat_minor": 2
}
