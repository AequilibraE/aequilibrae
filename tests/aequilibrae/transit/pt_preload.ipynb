{
 "cells": [
  {
   "cell_type": "code",
   "execution_count": 1,
   "metadata": {},
   "outputs": [],
   "source": [
    "from uuid import uuid4\n",
    "from os import remove\n",
    "from os.path import join\n",
    "from tempfile import gettempdir\n",
    "\n",
    "from aequilibrae.paths import TransitAssignment, TransitClass\n",
    "from aequilibrae.utils.create_example import create_example\n",
    "import numpy as np\n",
    "\n",
    "# Imports for GTFS import\n",
    "from aequilibrae.transit import Transit\n",
    "\n",
    "# Imports for SF transit graph construction\n",
    "from aequilibrae.project.database_connection import database_connection\n",
    "from aequilibrae.project.database_connection import database_connection\n"
   ]
  },
  {
   "cell_type": "code",
   "execution_count": 2,
   "metadata": {},
   "outputs": [],
   "source": [
    "fldr = join(gettempdir(), uuid4().hex)\n",
    "project = create_example(fldr, \"coquimbo\")"
   ]
  },
  {
   "cell_type": "code",
   "execution_count": 3,
   "metadata": {},
   "outputs": [
    {
     "name": "stderr",
     "output_type": "stream",
     "text": [
      "/home/ubuntu/.local/lib/python3.10/site-packages/aequilibrae/project/network/network.py:337: FutureWarning: Downcasting object dtype arrays on .fillna, .ffill, .bfill is deprecated and will change in a future version. Call result.infer_objects(copy=False) instead. To opt-in to the future behavior, set `pd.set_option('future.no_silent_downcasting', True)`\n",
      "  df = pd.read_sql(sql, conn).fillna(value=np.nan)\n"
     ]
    }
   ],
   "source": [
    "project.network.build_graphs()\n",
    "car_graph = project.network.graphs[\"c\"]\n",
    "car_graph.set_blocked_centroid_flows(False)"
   ]
  },
  {
   "cell_type": "code",
   "execution_count": 4,
   "metadata": {},
   "outputs": [],
   "source": [
    "# Preload parameters\n",
    "period_start = int(6.5 * 60 * 60) # 6:30am in seconds from midnight\n",
    "period_end = int(8.5 * 60 * 60)   # 8:30am in seconds from midnight"
   ]
  },
  {
   "cell_type": "code",
   "execution_count": 5,
   "metadata": {},
   "outputs": [],
   "source": [
    "transit_conn = database_connection(\"transit\")\n",
    "\n",
    "# Get list of trip_id's, whose start time is within the period\n",
    "select_trip_ids = f\"SELECT DISTINCT trip_id FROM trips_schedule WHERE arrival BETWEEN {period_start} AND {period_end}\"\n",
    "\n",
    "# Convert the trip_id's to their corresponding pattern_id's\n",
    "select_pattern_ids = f\"SELECT pattern_id FROM trips WHERE trip_id IN ({select_trip_ids})\"\n",
    "period_patterns = map(lambda x: x[0], transit_conn.execute(select_pattern_ids).fetchall())\n",
    "\n",
    "# For each pattern id get the corresponding list of link/dir'select_pattern_ids\n",
    "select_links = lambda pattern: f\"SELECT link, dir FROM pattern_mapping WHERE pattern_id = {pattern}\"\n",
    "period_links = lambda pattern: transit_conn.execute(select_links(pattern)).fetchall()"
   ]
  },
  {
   "cell_type": "code",
   "execution_count": 6,
   "metadata": {},
   "outputs": [],
   "source": [
    "# Create dictionary of link, dirs in the graph\n",
    "proj_conn = database_connection(\"project_database\")\n",
    "links = proj_conn.execute(\"SELECT link_id, direction FROM links\").fetchall()\n",
    "proj_conn.close()\n",
    "\n",
    "links_dict = dict()\n",
    "for link, dir in links:\n",
    "    if dir == 0: # Means both directions\n",
    "        links_dict[(link, 1)] = 0\n",
    "        links_dict[(link, -1)] = 0\n",
    "    else:\n",
    "        links_dict[(link, dir)] = 0"
   ]
  },
  {
   "cell_type": "code",
   "execution_count": 7,
   "metadata": {},
   "outputs": [],
   "source": [
    "# Iterate through pattern id's and for each link in the sequence, increment the coresponding dictionary value\n",
    "for pattern_id in period_patterns:\n",
    "    pattern_links = period_links(pattern_id)\n",
    "    for link, d in pattern_links:\n",
    "        dir = -1 if d == 1 else 1 # Changes direction of 0 to 1, ask Pedro when this will be fixed (is supposed to be +-1)\n",
    "        links_dict[(link, dir)] += 1\n",
    "\n",
    "transit_conn.close() # No longer needed"
   ]
  }
 ],
 "metadata": {
  "kernelspec": {
   "display_name": "Python 3",
   "language": "python",
   "name": "python3"
  },
  "language_info": {
   "codemirror_mode": {
    "name": "ipython",
    "version": 3
   },
   "file_extension": ".py",
   "mimetype": "text/x-python",
   "name": "python",
   "nbconvert_exporter": "python",
   "pygments_lexer": "ipython3",
   "version": "3.10.12"
  }
 },
 "nbformat": 4,
 "nbformat_minor": 2
}
