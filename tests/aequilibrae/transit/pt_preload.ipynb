{
 "cells": [
  {
   "cell_type": "code",
   "execution_count": 1,
   "metadata": {},
   "outputs": [],
   "source": [
    "# Imports\n",
    "from uuid import uuid4\n",
    "from os import remove\n",
    "from os.path import join\n",
    "from tempfile import gettempdir\n",
    "import numpy as np\n",
    "\n",
    "import pandas as pd\n",
    "from aequilibrae.project.database_connection import database_connection\n",
    "from aequilibrae.utils.db_utils import read_and_close\n",
    "\n",
    "from aequilibrae.transit import Transit\n",
    "from aequilibrae.paths import TrafficAssignment, TrafficClass\n",
    "from aequilibrae.utils.create_example import create_example\n",
    "from aequilibrae.matrix import AequilibraeMatrix\n",
    "from aequilibrae.project import Project\n",
    "\n",
    "\n",
    "# TODO:\n",
    "# 1. Figure out the capacity vector and ordering etc.\n",
    "# 2. Update reference files so tests work\n",
    "# 3. Build PC, understand how venv's and wsl system works from ground up, ubuntu 22.04, \n",
    "# 4. Remove this notebook from git.\n",
    "\n",
    "# Rewrite TODO's!\n",
    "\n",
    "# CHANGE DOCUMENTATION - WE HAVE TO ADD THE PRELOADS BEFORE SETTING THE ALGORITHM?"
   ]
  },
  {
   "cell_type": "code",
   "execution_count": 2,
   "metadata": {},
   "outputs": [
    {
     "name": "stdout",
     "output_type": "stream",
     "text": [
      "/data/aequilibrae/models/coquimbo_updated\n"
     ]
    }
   ],
   "source": [
    "fldr = \"/data/aequilibrae/models/coquimbo_updated\"\n",
    "print(fldr)\n",
    "project = Project.from_path(fldr)"
   ]
  },
  {
   "cell_type": "code",
   "execution_count": 3,
   "metadata": {},
   "outputs": [],
   "source": [
    "# Build temporary updated coquimbo file\n",
    "\n",
    "# fldr = \"/data/aequilibrae/models/coquimbo_updated\"\n",
    "# project = create_example(fldr, \"coquimbo\")\n",
    "\n",
    "# remove(join(fldr, \"public_transport.sqlite\"))\n",
    "# dest_path = join(fldr, \"gtfs_coquimbo.zip\")\n",
    "\n",
    "# data = Transit(project)\n",
    "\n",
    "# transit = data.new_gtfs_builder(agency=\"Lisanco\", file_path=dest_path)\n",
    "\n",
    "# transit.load_date(\"2016-04-13\")\n",
    "\n",
    "# # Now we execute the map matching to find the real paths.\n",
    "# # Depending on the GTFS size, this process can be really time-consuming.\n",
    "# transit.set_allow_map_match(True)\n",
    "# transit.map_match()\n",
    "\n",
    "# # Finally, we save our GTFS into our model.\n",
    "# transit.save_to_disk()"
   ]
  },
  {
   "cell_type": "code",
   "execution_count": 4,
   "metadata": {},
   "outputs": [
    {
     "name": "stderr",
     "output_type": "stream",
     "text": [
      "/home/ubuntu/git/aequilibrae/aequilibrae/project/network/network.py:343: FutureWarning: Downcasting object dtype arrays on .fillna, .ffill, .bfill is deprecated and will change in a future version. Call result.infer_objects(copy=False) instead. To opt-in to the future behavior, set `pd.set_option('future.no_silent_downcasting', True)`\n",
      "  df = pd.read_sql(sql, conn).fillna(value=np.nan)\n"
     ]
    }
   ],
   "source": [
    "# Attempt to build preload with new pce column\n",
    "\n",
    "project.network.build_graphs()\n",
    "project.activate()\n",
    "\n",
    "g = project.network.graphs[\"c\"]\n",
    "g.set_skimming([\"travel_time\"])\n",
    "g.set_graph(\"travel_time\")\n",
    "g.set_blocked_centroid_flows(False)\n",
    "g.graph[\"capacity\"] = 500\n",
    "g.graph[\"travel_time\"] = g.graph[\"distance\"] / 50\n",
    "\n",
    "def hr_to_sec(e):\n",
    "    return int(e * 60 * 60)\n",
    "\n",
    "start = hr_to_sec(7)\n",
    "end = hr_to_sec(8)\n",
    "inclusion_cond = \"start\""
   ]
  },
  {
   "cell_type": "code",
   "execution_count": 5,
   "metadata": {},
   "outputs": [],
   "source": [
    "n_zones = g.centroids.shape[0]\n",
    "matrix = AequilibraeMatrix()\n",
    "matrix.create_empty(zones=n_zones, matrix_names=[\"car\"])\n",
    "matrix.index = g.centroids\n",
    "\n",
    "matrix.matrices[:, :, 0] = 5  # 5 trips from each OD should cause a little bit of congestion\n",
    "matrix.computational_view(\"car\")"
   ]
  },
  {
   "cell_type": "code",
   "execution_count": 6,
   "metadata": {},
   "outputs": [
    {
     "data": {
      "text/html": [
       "<div>\n",
       "<style scoped>\n",
       "    .dataframe tbody tr th:only-of-type {\n",
       "        vertical-align: middle;\n",
       "    }\n",
       "\n",
       "    .dataframe tbody tr th {\n",
       "        vertical-align: top;\n",
       "    }\n",
       "\n",
       "    .dataframe thead th {\n",
       "        text-align: right;\n",
       "    }\n",
       "</style>\n",
       "<table border=\"1\" class=\"dataframe\">\n",
       "  <thead>\n",
       "    <tr style=\"text-align: right;\">\n",
       "      <th></th>\n",
       "      <th>link_id</th>\n",
       "      <th>direction</th>\n",
       "      <th>preload</th>\n",
       "    </tr>\n",
       "  </thead>\n",
       "  <tbody>\n",
       "    <tr>\n",
       "      <th>0</th>\n",
       "      <td>33</td>\n",
       "      <td>1</td>\n",
       "      <td>152</td>\n",
       "    </tr>\n",
       "    <tr>\n",
       "      <th>1</th>\n",
       "      <td>43</td>\n",
       "      <td>1</td>\n",
       "      <td>152</td>\n",
       "    </tr>\n",
       "    <tr>\n",
       "      <th>2</th>\n",
       "      <td>44</td>\n",
       "      <td>1</td>\n",
       "      <td>152</td>\n",
       "    </tr>\n",
       "    <tr>\n",
       "      <th>3</th>\n",
       "      <td>48</td>\n",
       "      <td>1</td>\n",
       "      <td>152</td>\n",
       "    </tr>\n",
       "    <tr>\n",
       "      <th>4</th>\n",
       "      <td>50</td>\n",
       "      <td>1</td>\n",
       "      <td>152</td>\n",
       "    </tr>\n",
       "    <tr>\n",
       "      <th>...</th>\n",
       "      <td>...</td>\n",
       "      <td>...</td>\n",
       "      <td>...</td>\n",
       "    </tr>\n",
       "    <tr>\n",
       "      <th>247</th>\n",
       "      <td>34529</td>\n",
       "      <td>-1</td>\n",
       "      <td>168</td>\n",
       "    </tr>\n",
       "    <tr>\n",
       "      <th>248</th>\n",
       "      <td>34529</td>\n",
       "      <td>1</td>\n",
       "      <td>152</td>\n",
       "    </tr>\n",
       "    <tr>\n",
       "      <th>249</th>\n",
       "      <td>34530</td>\n",
       "      <td>-1</td>\n",
       "      <td>168</td>\n",
       "    </tr>\n",
       "    <tr>\n",
       "      <th>250</th>\n",
       "      <td>34530</td>\n",
       "      <td>1</td>\n",
       "      <td>152</td>\n",
       "    </tr>\n",
       "    <tr>\n",
       "      <th>251</th>\n",
       "      <td>34531</td>\n",
       "      <td>1</td>\n",
       "      <td>152</td>\n",
       "    </tr>\n",
       "  </tbody>\n",
       "</table>\n",
       "<p>252 rows × 3 columns</p>\n",
       "</div>"
      ],
      "text/plain": [
       "     link_id  direction  preload\n",
       "0         33          1      152\n",
       "1         43          1      152\n",
       "2         44          1      152\n",
       "3         48          1      152\n",
       "4         50          1      152\n",
       "..       ...        ...      ...\n",
       "247    34529         -1      168\n",
       "248    34529          1      152\n",
       "249    34530         -1      168\n",
       "250    34530          1      152\n",
       "251    34531          1      152\n",
       "\n",
       "[252 rows x 3 columns]"
      ]
     },
     "execution_count": 6,
     "metadata": {},
     "output_type": "execute_result"
    }
   ],
   "source": [
    "transit = Transit(project)\n",
    "preload = transit.build_pt_preload(start, end, inclusion_cond=inclusion_cond)\n",
    "preload"
   ]
  },
  {
   "cell_type": "code",
   "execution_count": 7,
   "metadata": {},
   "outputs": [],
   "source": [
    "assignment = TrafficAssignment()\n",
    "assignment.set_classes([TrafficClass(\"car\", g, matrix)])\n",
    "\n",
    "assignment.set_vdf(\"BPR\")\n",
    "assignment.set_vdf_parameters({\"alpha\": 0.15, \"beta\": 4.0})\n",
    "assignment.set_capacity_field(\"capacity\")\n",
    "assignment.set_time_field(\"travel_time\")\n",
    "assignment.max_iter = 1  # AON assignment\n",
    "assignment.add_preload(preload, name=\"pt\")\n",
    "assignment.set_algorithm(\"msa\")"
   ]
  },
  {
   "cell_type": "code",
   "execution_count": 8,
   "metadata": {},
   "outputs": [
    {
     "name": "stdout",
     "output_type": "stream",
     "text": [
      "       link_id  direction   pt\n",
      "0            1         -1  0.0\n",
      "1            1          1  0.0\n",
      "2            2          1  0.0\n",
      "3            3          1  0.0\n",
      "4           12          1  0.0\n",
      "...        ...        ...  ...\n",
      "34541    34940          1  0.0\n",
      "34542    34941         -1  0.0\n",
      "34543    34941          1  0.0\n",
      "34544    34942         -1  0.0\n",
      "34545    34942          1  0.0\n",
      "\n",
      "[34546 rows x 3 columns]\n",
      "39696.0\n"
     ]
    }
   ],
   "source": [
    "print(assignment.preloads)\n",
    "print(assignment.preloads[\"pt\"].sum())"
   ]
  },
  {
   "cell_type": "code",
   "execution_count": 11,
   "metadata": {},
   "outputs": [
    {
     "data": {
      "text/plain": [
       "39696.0"
      ]
     },
     "execution_count": 11,
     "metadata": {},
     "output_type": "execute_result"
    }
   ],
   "source": [
    "cols = assignment.preloads.columns.difference(['link_id', 'direction'])\n",
    "p = assignment.preloads[cols].sum(axis=1).to_numpy()\n",
    "p.sum()"
   ]
  },
  {
   "cell_type": "code",
   "execution_count": 10,
   "metadata": {},
   "outputs": [],
   "source": [
    "# %%\n",
    "matrix.close()\n",
    "project.close()"
   ]
  }
 ],
 "metadata": {
  "kernelspec": {
   "display_name": "Python 3",
   "language": "python",
   "name": "python3"
  },
  "language_info": {
   "codemirror_mode": {
    "name": "ipython",
    "version": 3
   },
   "file_extension": ".py",
   "mimetype": "text/x-python",
   "name": "python",
   "nbconvert_exporter": "python",
   "pygments_lexer": "ipython3",
   "version": "3.10.12"
  }
 },
 "nbformat": 4,
 "nbformat_minor": 2
}
