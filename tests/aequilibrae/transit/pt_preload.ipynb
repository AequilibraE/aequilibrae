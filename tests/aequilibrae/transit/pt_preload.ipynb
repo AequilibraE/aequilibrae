{
 "cells": [
  {
   "cell_type": "code",
   "execution_count": 25,
   "metadata": {},
   "outputs": [],
   "source": [
    "from uuid import uuid4\n",
    "from os import remove\n",
    "from os.path import join\n",
    "from tempfile import gettempdir\n",
    "import numpy as np\n",
    "import pandas as pd\n",
    "\n",
    "from aequilibrae.utils.create_example import create_example\n",
    "\n",
    "# Imports for SF transit graph construction\n",
    "from aequilibrae.project.database_connection import database_connection"
   ]
  },
  {
   "cell_type": "code",
   "execution_count": 2,
   "metadata": {},
   "outputs": [],
   "source": [
    "fldr = join(gettempdir(), uuid4().hex)\n",
    "project = create_example(fldr, \"coquimbo\")"
   ]
  },
  {
   "cell_type": "code",
   "execution_count": 3,
   "metadata": {},
   "outputs": [
    {
     "name": "stderr",
     "output_type": "stream",
     "text": [
      "/home/ubuntu/.local/lib/python3.10/site-packages/aequilibrae/project/network/network.py:337: FutureWarning: Downcasting object dtype arrays on .fillna, .ffill, .bfill is deprecated and will change in a future version. Call result.infer_objects(copy=False) instead. To opt-in to the future behavior, set `pd.set_option('future.no_silent_downcasting', True)`\n",
      "  df = pd.read_sql(sql, conn).fillna(value=np.nan)\n"
     ]
    }
   ],
   "source": [
    "project.network.build_graphs()\n",
    "car_graph = project.network.graphs[\"c\"]\n",
    "car_graph.set_blocked_centroid_flows(False)\n",
    "\n",
    "bike_graph = project.network.graphs[\"c\"]\n",
    "bike_graph.set_blocked_centroid_flows(False)"
   ]
  },
  {
   "cell_type": "code",
   "execution_count": 4,
   "metadata": {},
   "outputs": [],
   "source": [
    "# Preload parameters\n",
    "period_start = int(6.5 * 60 * 60) # 6:30am in seconds from midnight\n",
    "period_end = int(8.5 * 60 * 60)   # 8:30am in seconds from midnight"
   ]
  },
  {
   "cell_type": "code",
   "execution_count": 36,
   "metadata": {},
   "outputs": [],
   "source": [
    "conn = database_connection(\"transit\")\n",
    "\n",
    "select_trip_ids = f\"SELECT DISTINCT trip_id FROM trips_schedule WHERE arrival BETWEEN {period_start} AND {period_end}\"\n",
    "\n",
    "# Convert trip_id's to corresponding pattern_id's\n",
    "select_pattern_ids = f\"SELECT pattern_id FROM trips WHERE trip_id IN ({select_trip_ids})\"\n",
    "\n",
    "# Convert pattern id's to groups of link/dir's\n",
    "select_links = f\"WITH X AS ({select_pattern_ids}) SELECT pm.link, pm.dir FROM X INNER JOIN pattern_mapping pm ON X.pattern_id = pm.pattern_id\""
   ]
  },
  {
   "cell_type": "code",
   "execution_count": 44,
   "metadata": {},
   "outputs": [],
   "source": [
    "links = pd.DataFrame(conn.execute(select_links).fetchall(), columns=['link_id', 'direction'])\n",
    "links['direction'] = links['direction'].apply(lambda d: 1 - 2 * d) # Fixing the 0/1 issue (don't know why it's still there)\n",
    "links['PCE'] = 1\n",
    "links = links.groupby(['link_id', 'direction'], as_index=False)['PCE'].sum().rename(columns={'PCE': 'preload'})\n"
   ]
  },
  {
   "cell_type": "code",
   "execution_count": 45,
   "metadata": {},
   "outputs": [
    {
     "data": {
      "text/html": [
       "<div>\n",
       "<style scoped>\n",
       "    .dataframe tbody tr th:only-of-type {\n",
       "        vertical-align: middle;\n",
       "    }\n",
       "\n",
       "    .dataframe tbody tr th {\n",
       "        vertical-align: top;\n",
       "    }\n",
       "\n",
       "    .dataframe thead th {\n",
       "        text-align: right;\n",
       "    }\n",
       "</style>\n",
       "<table border=\"1\" class=\"dataframe\">\n",
       "  <thead>\n",
       "    <tr style=\"text-align: right;\">\n",
       "      <th></th>\n",
       "      <th>link_id</th>\n",
       "      <th>direction</th>\n",
       "      <th>preload</th>\n",
       "    </tr>\n",
       "  </thead>\n",
       "  <tbody>\n",
       "    <tr>\n",
       "      <th>0</th>\n",
       "      <td>2</td>\n",
       "      <td>1</td>\n",
       "      <td>41</td>\n",
       "    </tr>\n",
       "    <tr>\n",
       "      <th>1</th>\n",
       "      <td>12</td>\n",
       "      <td>1</td>\n",
       "      <td>46</td>\n",
       "    </tr>\n",
       "    <tr>\n",
       "      <th>2</th>\n",
       "      <td>15</td>\n",
       "      <td>1</td>\n",
       "      <td>22</td>\n",
       "    </tr>\n",
       "    <tr>\n",
       "      <th>3</th>\n",
       "      <td>16</td>\n",
       "      <td>1</td>\n",
       "      <td>22</td>\n",
       "    </tr>\n",
       "    <tr>\n",
       "      <th>4</th>\n",
       "      <td>17</td>\n",
       "      <td>1</td>\n",
       "      <td>44</td>\n",
       "    </tr>\n",
       "    <tr>\n",
       "      <th>...</th>\n",
       "      <td>...</td>\n",
       "      <td>...</td>\n",
       "      <td>...</td>\n",
       "    </tr>\n",
       "    <tr>\n",
       "      <th>2593</th>\n",
       "      <td>34777</td>\n",
       "      <td>1</td>\n",
       "      <td>15</td>\n",
       "    </tr>\n",
       "    <tr>\n",
       "      <th>2594</th>\n",
       "      <td>34778</td>\n",
       "      <td>1</td>\n",
       "      <td>15</td>\n",
       "    </tr>\n",
       "    <tr>\n",
       "      <th>2595</th>\n",
       "      <td>34779</td>\n",
       "      <td>1</td>\n",
       "      <td>15</td>\n",
       "    </tr>\n",
       "    <tr>\n",
       "      <th>2596</th>\n",
       "      <td>34780</td>\n",
       "      <td>1</td>\n",
       "      <td>30</td>\n",
       "    </tr>\n",
       "    <tr>\n",
       "      <th>2597</th>\n",
       "      <td>34781</td>\n",
       "      <td>1</td>\n",
       "      <td>15</td>\n",
       "    </tr>\n",
       "  </tbody>\n",
       "</table>\n",
       "<p>2598 rows × 3 columns</p>\n",
       "</div>"
      ],
      "text/plain": [
       "      link_id  direction  preload\n",
       "0           2          1       41\n",
       "1          12          1       46\n",
       "2          15          1       22\n",
       "3          16          1       22\n",
       "4          17          1       44\n",
       "...       ...        ...      ...\n",
       "2593    34777          1       15\n",
       "2594    34778          1       15\n",
       "2595    34779          1       15\n",
       "2596    34780          1       30\n",
       "2597    34781          1       15\n",
       "\n",
       "[2598 rows x 3 columns]"
      ]
     },
     "execution_count": 45,
     "metadata": {},
     "output_type": "execute_result"
    }
   ],
   "source": [
    "links"
   ]
  },
  {
   "cell_type": "code",
   "execution_count": 59,
   "metadata": {},
   "outputs": [
    {
     "data": {
      "text/plain": [
       "117719.0"
      ]
     },
     "execution_count": 59,
     "metadata": {},
     "output_type": "execute_result"
    }
   ],
   "source": [
    "preload = pd.merge(car_graph.graph, links, on=['link_id', 'direction'], how='left')\n",
    "preload['preload'] = preload['preload'].fillna(0)\n",
    "preload = preload.sort_values(by='__supernet_id__')['preload'].to_numpy()\n"
   ]
  },
  {
   "cell_type": "code",
   "execution_count": null,
   "metadata": {},
   "outputs": [],
   "source": [
    "conn.close()"
   ]
  }
 ],
 "metadata": {
  "kernelspec": {
   "display_name": "Python 3",
   "language": "python",
   "name": "python3"
  },
  "language_info": {
   "codemirror_mode": {
    "name": "ipython",
    "version": 3
   },
   "file_extension": ".py",
   "mimetype": "text/x-python",
   "name": "python",
   "nbconvert_exporter": "python",
   "pygments_lexer": "ipython3",
   "version": "3.10.12"
  }
 },
 "nbformat": 4,
 "nbformat_minor": 2
}
