{
 "cells": [
  {
   "attachments": {},
   "cell_type": "markdown",
   "metadata": {},
   "source": [
    "# Rebuild Transit Example"
   ]
  },
  {
   "cell_type": "code",
   "execution_count": 1,
   "metadata": {},
   "outputs": [],
   "source": [
    "import sys\n",
    "sys.path.append(\"/home/ubuntu/git/aequilibrae\")  # path to AequilibraE"
   ]
  },
  {
   "cell_type": "code",
   "execution_count": 2,
   "metadata": {},
   "outputs": [
    {
     "name": "stderr",
     "output_type": "stream",
     "text": [
      "/home/ubuntu/git/aequilibrae/aequilibrae/utils/python_signal.py:17: UserWarning: No progress bars will be shown. Please install tqdm to see them\n",
      "  warnings.warn(\"No progress bars will be shown. Please install tqdm to see them\")\n"
     ]
    }
   ],
   "source": [
    "from uuid import uuid4\n",
    "from os import remove\n",
    "from os.path import join, exists\n",
    "from tempfile import gettempdir\n",
    "from zipfile import ZipFile\n",
    "from pathlib import Path\n",
    "\n",
    "from aequilibrae.transit import Transit\n",
    "from aequilibrae.utils.create_example import create_example\n"
   ]
  },
  {
   "cell_type": "code",
   "execution_count": 3,
   "metadata": {},
   "outputs": [],
   "source": [
    "def rebuid_coquimbo_example(dest_folder):\n",
    "    \"\"\"\n",
    "    dest_folder: where the zip file with the complete model is stored\n",
    "    gtfs_path: path to gtfs_file\n",
    "    \"\"\"\n",
    "    fldr = join(gettempdir(), uuid4().hex)\n",
    "    project = create_example(fldr, \"coquimbo\")\n",
    "    gtfs_path = join(fldr, \"gtfs_coquimbo.zip\")\n",
    "\n",
    "    remove(join(fldr, \"public_transport.sqlite\"))\n",
    "\n",
    "    data = Transit(project)\n",
    "\n",
    "    transit = data.new_gtfs_builder(agency=\"Lisanco\", file_path=gtfs_path)\n",
    "\n",
    "    transit.load_date(\"2016-04-13\")\n",
    "\n",
    "    transit.set_allow_map_match(True)\n",
    "    transit.map_match()\n",
    "\n",
    "    transit.save_to_disk()\n",
    "\n",
    "    cursor = Transit(project).pt_con.cursor()\n",
    "    cursor.execute('VACUUM;')\n",
    "\n",
    "    with ZipFile(f'{dest_folder}/coquimbo.zip', 'w') as zip_object:\n",
    "        zip_object.write(f\"{fldr}/project_database.sqlite\", \"project_database.sqlite\")\n",
    "        zip_object.write(f\"{fldr}/public_transport.sqlite\", \"public_transport.sqlite\")\n",
    "        zip_object.write(f\"{fldr}/gtfs_coquimbo.zip\", \"gtfs_coquimbo.zip\")\n",
    "        zip_object.write(f\"{fldr}/parameters.yml\", \"parameters.yml\")\n",
    "\n",
    "    if exists(f'{dest_folder}/coquimbo.zip'):\n",
    "        print(\"ZIP file created!\")\n"
   ]
  },
  {
   "cell_type": "code",
   "execution_count": 4,
   "metadata": {},
   "outputs": [],
   "source": [
    "dest_folder = Path(\"/home/ubuntu/git/aequilibrae/aequilibrae/reference_files\")"
   ]
  },
  {
   "cell_type": "code",
   "execution_count": 5,
   "metadata": {},
   "outputs": [
    {
     "name": "stdout",
     "output_type": "stream",
     "text": [
      "ZIP file created!\n"
     ]
    }
   ],
   "source": [
    "rebuid_coquimbo_example(dest_folder)"
   ]
  }
 ],
 "metadata": {
  "kernelspec": {
   "display_name": ".venv",
   "language": "python",
   "name": "python3"
  },
  "language_info": {
   "codemirror_mode": {
    "name": "ipython",
    "version": 3
   },
   "file_extension": ".py",
   "mimetype": "text/x-python",
   "name": "python",
   "nbconvert_exporter": "python",
   "pygments_lexer": "ipython3",
   "version": "3.10.12"
  },
  "orig_nbformat": 4
 },
 "nbformat": 4,
 "nbformat_minor": 2
}
