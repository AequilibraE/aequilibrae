{
 "cells": [
  {
   "attachments": {},
   "cell_type": "markdown",
   "metadata": {},
   "source": [
    "# Rebuild Transit Example"
   ]
  },
  {
   "cell_type": "code",
   "execution_count": 6,
   "metadata": {},
   "outputs": [],
   "source": [
    "import sys\n",
    "# sys.path.append(\"/home/ubuntu/git/aequilibrae\")  # path to AequilibraE"
   ]
  },
  {
   "cell_type": "code",
   "execution_count": 7,
   "metadata": {},
   "outputs": [],
   "source": [
    "from uuid import uuid4\n",
    "from os import remove\n",
    "from os.path import join, exists\n",
    "from tempfile import gettempdir\n",
    "from zipfile import ZipFile\n",
    "from pathlib import Path\n",
    "\n",
    "from aequilibrae.transit import Transit\n",
    "from aequilibrae.utils.create_example import create_example\n"
   ]
  },
  {
   "cell_type": "code",
   "execution_count": 8,
   "metadata": {},
   "outputs": [],
   "source": [
    "def rebuid_coquimbo_example(dest_folder):\n",
    "    \"\"\"\n",
    "    dest_folder: where the zip file with the complete model is stored\n",
    "    gtfs_path: path to gtfs_file\n",
    "    \"\"\"\n",
    "    fldr = join(gettempdir(), uuid4().hex)\n",
    "    project = create_example(fldr, \"coquimbo\")\n",
    "    gtfs_path = join(fldr, \"gtfs_coquimbo.zip\")\n",
    "\n",
    "    remove(join(fldr, \"public_transport.sqlite\"))\n",
    "\n",
    "    data = Transit(project)\n",
    "\n",
    "    cursor = data.pt_con.cursor()\n",
    "    cursor.execute('VACUUM;')\n",
    "\n",
    "    transit = data.new_gtfs_builder(agency=\"Lisanco\", file_path=gtfs_path)\n",
    "\n",
    "    transit.load_date(\"2016-04-13\")\n",
    "\n",
    "    transit.set_allow_map_match(True)\n",
    "    transit.map_match()\n",
    "\n",
    "    transit.save_to_disk()\n",
    "\n",
    "    with ZipFile(f'{dest_folder}/coquimbo.zip', 'w') as zip_object:\n",
    "        zip_object.write(f\"{fldr}/project_database.sqlite\", \"project_database.sqlite\")\n",
    "        zip_object.write(f\"{fldr}/public_transport.sqlite\", \"public_transport.sqlite\")\n",
    "        zip_object.write(f\"{fldr}/gtfs_coquimbo.zip\", \"gtfs_coquimbo.zip\")\n",
    "        zip_object.write(f\"{fldr}/parameters.yml\", \"parameters.yml\")\n",
    "\n",
    "    if exists(f'{dest_folder}/coquimbo.zip'):\n",
    "        print(\"ZIP file created!\")\n"
   ]
  },
  {
   "cell_type": "code",
   "execution_count": 9,
   "metadata": {},
   "outputs": [],
   "source": [
    "dest_folder = Path(\"/home/ubuntu/git/aequilibrae/aequilibrae/reference_files\")"
   ]
  },
  {
   "cell_type": "code",
   "execution_count": 10,
   "metadata": {},
   "outputs": [
    {
     "ename": "FileNotFoundError",
     "evalue": "[Errno 2] No such file or directory: '/home/ubuntu/git/aequilibrae/aequilibrae/reference_files/gtfs_coquimbo.zip'",
     "output_type": "error",
     "traceback": [
      "\u001b[0;31m---------------------------------------------------------------------------\u001b[0m",
      "\u001b[0;31mFileNotFoundError\u001b[0m                         Traceback (most recent call last)",
      "Cell \u001b[0;32mIn[10], line 1\u001b[0m\n\u001b[0;32m----> 1\u001b[0m \u001b[43mrebuid_coquimbo_example\u001b[49m\u001b[43m(\u001b[49m\u001b[43mdest_folder\u001b[49m\u001b[43m,\u001b[49m\u001b[43m \u001b[49m\u001b[38;5;124;43mf\u001b[39;49m\u001b[38;5;124;43m\"\u001b[39;49m\u001b[38;5;132;43;01m{\u001b[39;49;00m\u001b[43mdest_folder\u001b[49m\u001b[38;5;132;43;01m}\u001b[39;49;00m\u001b[38;5;124;43m/gtfs_coquimbo.zip\u001b[39;49m\u001b[38;5;124;43m\"\u001b[39;49m\u001b[43m)\u001b[49m\n",
      "Cell \u001b[0;32mIn[8], line 16\u001b[0m, in \u001b[0;36mrebuid_coquimbo_example\u001b[0;34m(dest_folder, gtfs_path)\u001b[0m\n\u001b[1;32m     13\u001b[0m cursor \u001b[38;5;241m=\u001b[39m data\u001b[38;5;241m.\u001b[39mpt_con\u001b[38;5;241m.\u001b[39mcursor()\n\u001b[1;32m     14\u001b[0m cursor\u001b[38;5;241m.\u001b[39mexecute(\u001b[38;5;124m'\u001b[39m\u001b[38;5;124mVACUUM;\u001b[39m\u001b[38;5;124m'\u001b[39m)\n\u001b[0;32m---> 16\u001b[0m transit \u001b[38;5;241m=\u001b[39m \u001b[43mdata\u001b[49m\u001b[38;5;241;43m.\u001b[39;49m\u001b[43mnew_gtfs_builder\u001b[49m\u001b[43m(\u001b[49m\u001b[43magency\u001b[49m\u001b[38;5;241;43m=\u001b[39;49m\u001b[38;5;124;43m\"\u001b[39;49m\u001b[38;5;124;43mLisanco\u001b[39;49m\u001b[38;5;124;43m\"\u001b[39;49m\u001b[43m,\u001b[49m\u001b[43m \u001b[49m\u001b[43mfile_path\u001b[49m\u001b[38;5;241;43m=\u001b[39;49m\u001b[43mgtfs_path\u001b[49m\u001b[43m)\u001b[49m\n\u001b[1;32m     18\u001b[0m transit\u001b[38;5;241m.\u001b[39mload_date(\u001b[38;5;124m\"\u001b[39m\u001b[38;5;124m2016-04-13\u001b[39m\u001b[38;5;124m\"\u001b[39m)\n\u001b[1;32m     20\u001b[0m transit\u001b[38;5;241m.\u001b[39mset_allow_map_match(\u001b[38;5;28;01mTrue\u001b[39;00m)\n",
      "File \u001b[0;32m~/git/aequilibrae/aequilibrae/transit/transit.py:65\u001b[0m, in \u001b[0;36mTransit.new_gtfs_builder\u001b[0;34m(self, agency, file_path, day, description)\u001b[0m\n\u001b[1;32m     50\u001b[0m \u001b[38;5;28;01mdef\u001b[39;00m \u001b[38;5;21mnew_gtfs_builder\u001b[39m(\u001b[38;5;28mself\u001b[39m, agency, file_path, day\u001b[38;5;241m=\u001b[39m\u001b[38;5;124m\"\u001b[39m\u001b[38;5;124m\"\u001b[39m, description\u001b[38;5;241m=\u001b[39m\u001b[38;5;124m\"\u001b[39m\u001b[38;5;124m\"\u001b[39m) \u001b[38;5;241m-\u001b[39m\u001b[38;5;241m>\u001b[39m GTFSRouteSystemBuilder:\n\u001b[1;32m     51\u001b[0m \u001b[38;5;250m    \u001b[39m\u001b[38;5;124;03m\"\"\"Returns a ``GTFSRouteSystemBuilder`` object compatible with the project\u001b[39;00m\n\u001b[1;32m     52\u001b[0m \n\u001b[1;32m     53\u001b[0m \u001b[38;5;124;03m    :Arguments:\u001b[39;00m\n\u001b[0;32m   (...)\u001b[0m\n\u001b[1;32m     63\u001b[0m \u001b[38;5;124;03m        **gtfs_feed** (:obj:`StaticGTFS`): A GTFS feed that can be added to this network\u001b[39;00m\n\u001b[1;32m     64\u001b[0m \u001b[38;5;124;03m    \"\"\"\u001b[39;00m\n\u001b[0;32m---> 65\u001b[0m     gtfs \u001b[38;5;241m=\u001b[39m \u001b[43mGTFSRouteSystemBuilder\u001b[49m\u001b[43m(\u001b[49m\n\u001b[1;32m     66\u001b[0m \u001b[43m        \u001b[49m\u001b[43mnetwork\u001b[49m\u001b[38;5;241;43m=\u001b[39;49m\u001b[38;5;28;43mself\u001b[39;49m\u001b[38;5;241;43m.\u001b[39;49m\u001b[43mproject_base_path\u001b[49m\u001b[43m,\u001b[49m\n\u001b[1;32m     67\u001b[0m \u001b[43m        \u001b[49m\u001b[43magency_identifier\u001b[49m\u001b[38;5;241;43m=\u001b[39;49m\u001b[43magency\u001b[49m\u001b[43m,\u001b[49m\n\u001b[1;32m     68\u001b[0m \u001b[43m        \u001b[49m\u001b[43mfile_path\u001b[49m\u001b[38;5;241;43m=\u001b[39;49m\u001b[43mfile_path\u001b[49m\u001b[43m,\u001b[49m\n\u001b[1;32m     69\u001b[0m \u001b[43m        \u001b[49m\u001b[43mday\u001b[49m\u001b[38;5;241;43m=\u001b[39;49m\u001b[43mday\u001b[49m\u001b[43m,\u001b[49m\n\u001b[1;32m     70\u001b[0m \u001b[43m        \u001b[49m\u001b[43mdescription\u001b[49m\u001b[38;5;241;43m=\u001b[39;49m\u001b[43mdescription\u001b[49m\u001b[43m,\u001b[49m\n\u001b[1;32m     71\u001b[0m \u001b[43m        \u001b[49m\u001b[43mcapacities\u001b[49m\u001b[38;5;241;43m=\u001b[39;49m\u001b[38;5;28;43mself\u001b[39;49m\u001b[38;5;241;43m.\u001b[39;49m\u001b[43mdefault_capacities\u001b[49m\u001b[43m,\u001b[49m\n\u001b[1;32m     72\u001b[0m \u001b[43m        \u001b[49m\u001b[43mpces\u001b[49m\u001b[38;5;241;43m=\u001b[39;49m\u001b[38;5;28;43mself\u001b[39;49m\u001b[38;5;241;43m.\u001b[39;49m\u001b[43mdefault_pces\u001b[49m\u001b[43m,\u001b[49m\n\u001b[1;32m     73\u001b[0m \u001b[43m    \u001b[49m\u001b[43m)\u001b[49m\n\u001b[1;32m     74\u001b[0m     \u001b[38;5;28;01mreturn\u001b[39;00m gtfs\n",
      "File \u001b[0;32m~/git/aequilibrae/aequilibrae/transit/lib_gtfs.py:64\u001b[0m, in \u001b[0;36mGTFSRouteSystemBuilder.__init__\u001b[0;34m(self, network, agency_identifier, file_path, day, description, capacities, pces)\u001b[0m\n\u001b[1;32m     62\u001b[0m \u001b[38;5;28;01mif\u001b[39;00m file_path \u001b[38;5;129;01mis\u001b[39;00m \u001b[38;5;129;01mnot\u001b[39;00m \u001b[38;5;28;01mNone\u001b[39;00m:\n\u001b[1;32m     63\u001b[0m     \u001b[38;5;28mself\u001b[39m\u001b[38;5;241m.\u001b[39mlogger\u001b[38;5;241m.\u001b[39minfo(\u001b[38;5;124mf\u001b[39m\u001b[38;5;124m\"\u001b[39m\u001b[38;5;124mCreating GTFS feed object for \u001b[39m\u001b[38;5;132;01m{\u001b[39;00mfile_path\u001b[38;5;132;01m}\u001b[39;00m\u001b[38;5;124m\"\u001b[39m)\n\u001b[0;32m---> 64\u001b[0m     \u001b[38;5;28;43mself\u001b[39;49m\u001b[38;5;241;43m.\u001b[39;49m\u001b[43mgtfs_data\u001b[49m\u001b[38;5;241;43m.\u001b[39;49m\u001b[43mset_feed_path\u001b[49m\u001b[43m(\u001b[49m\u001b[43mfile_path\u001b[49m\u001b[43m)\u001b[49m\n\u001b[1;32m     65\u001b[0m     \u001b[38;5;28mself\u001b[39m\u001b[38;5;241m.\u001b[39mgtfs_data\u001b[38;5;241m.\u001b[39m_set_capacities(\u001b[38;5;28mself\u001b[39m\u001b[38;5;241m.\u001b[39m__default_capacities)\n\u001b[1;32m     66\u001b[0m     \u001b[38;5;28mself\u001b[39m\u001b[38;5;241m.\u001b[39mgtfs_data\u001b[38;5;241m.\u001b[39m_set_pces(\u001b[38;5;28mself\u001b[39m\u001b[38;5;241m.\u001b[39m__default_pces)\n",
      "File \u001b[0;32m~/git/aequilibrae/aequilibrae/transit/gtfs_loader.py:59\u001b[0m, in \u001b[0;36mGTFSReader.set_feed_path\u001b[0;34m(self, file_path)\u001b[0m\n\u001b[1;32m     52\u001b[0m \u001b[38;5;250m\u001b[39m\u001b[38;5;124;03m\"\"\"Sets GTFS feed source to be used\u001b[39;00m\n\u001b[1;32m     53\u001b[0m \n\u001b[1;32m     54\u001b[0m \u001b[38;5;124;03m:Arguments:\u001b[39;00m\n\u001b[1;32m     55\u001b[0m \u001b[38;5;124;03m    **file_path** (:obj:`str`): Full path to the GTFS feed (e.g. 'D:/project/my_gtfs_feed.zip')\u001b[39;00m\n\u001b[1;32m     56\u001b[0m \u001b[38;5;124;03m\"\"\"\u001b[39;00m\n\u001b[1;32m     58\u001b[0m \u001b[38;5;28mself\u001b[39m\u001b[38;5;241m.\u001b[39marchive_dir \u001b[38;5;241m=\u001b[39m file_path\n\u001b[0;32m---> 59\u001b[0m \u001b[38;5;28mself\u001b[39m\u001b[38;5;241m.\u001b[39mzip_archive \u001b[38;5;241m=\u001b[39m \u001b[43mzipfile\u001b[49m\u001b[38;5;241;43m.\u001b[39;49m\u001b[43mZipFile\u001b[49m\u001b[43m(\u001b[49m\u001b[38;5;28;43mself\u001b[39;49m\u001b[38;5;241;43m.\u001b[39;49m\u001b[43marchive_dir\u001b[49m\u001b[43m)\u001b[49m\n\u001b[1;32m     60\u001b[0m ret \u001b[38;5;241m=\u001b[39m \u001b[38;5;28mself\u001b[39m\u001b[38;5;241m.\u001b[39mzip_archive\u001b[38;5;241m.\u001b[39mtestzip()\n\u001b[1;32m     61\u001b[0m \u001b[38;5;28;01mif\u001b[39;00m ret \u001b[38;5;129;01mis\u001b[39;00m \u001b[38;5;129;01mnot\u001b[39;00m \u001b[38;5;28;01mNone\u001b[39;00m:\n",
      "File \u001b[0;32m/usr/lib/python3.10/zipfile.py:1251\u001b[0m, in \u001b[0;36mZipFile.__init__\u001b[0;34m(self, file, mode, compression, allowZip64, compresslevel, strict_timestamps)\u001b[0m\n\u001b[1;32m   1249\u001b[0m \u001b[38;5;28;01mwhile\u001b[39;00m \u001b[38;5;28;01mTrue\u001b[39;00m:\n\u001b[1;32m   1250\u001b[0m     \u001b[38;5;28;01mtry\u001b[39;00m:\n\u001b[0;32m-> 1251\u001b[0m         \u001b[38;5;28mself\u001b[39m\u001b[38;5;241m.\u001b[39mfp \u001b[38;5;241m=\u001b[39m \u001b[43mio\u001b[49m\u001b[38;5;241;43m.\u001b[39;49m\u001b[43mopen\u001b[49m\u001b[43m(\u001b[49m\u001b[43mfile\u001b[49m\u001b[43m,\u001b[49m\u001b[43m \u001b[49m\u001b[43mfilemode\u001b[49m\u001b[43m)\u001b[49m\n\u001b[1;32m   1252\u001b[0m     \u001b[38;5;28;01mexcept\u001b[39;00m \u001b[38;5;167;01mOSError\u001b[39;00m:\n\u001b[1;32m   1253\u001b[0m         \u001b[38;5;28;01mif\u001b[39;00m filemode \u001b[38;5;129;01min\u001b[39;00m modeDict:\n",
      "\u001b[0;31mFileNotFoundError\u001b[0m: [Errno 2] No such file or directory: '/home/ubuntu/git/aequilibrae/aequilibrae/reference_files/gtfs_coquimbo.zip'"
     ]
    }
   ],
   "source": [
    "rebuid_coquimbo_example(dest_folder)"
   ]
  }
 ],
 "metadata": {
  "kernelspec": {
   "display_name": ".venv",
   "language": "python",
   "name": "python3"
  },
  "language_info": {
   "codemirror_mode": {
    "name": "ipython",
    "version": 3
   },
   "file_extension": ".py",
   "mimetype": "text/x-python",
   "name": "python",
   "nbconvert_exporter": "python",
   "pygments_lexer": "ipython3",
   "version": "3.9.12"
  },
  "orig_nbformat": 4
 },
 "nbformat": 4,
 "nbformat_minor": 2
}
