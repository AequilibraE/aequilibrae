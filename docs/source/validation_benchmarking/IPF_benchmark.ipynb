{
 "cells": [
  {
   "cell_type": "markdown",
   "id": "84739e55",
   "metadata": {},
   "source": [
    "# IPF Performance"
   ]
  },
  {
   "cell_type": "markdown",
   "id": "fc1c6f92",
   "metadata": {},
   "source": [
    "The use of iterative proportional fitting (IPF) is quite common on processes\n",
    "involving doubly-constraining matrices, such as synthetic gravity models and\n",
    "fractional split models (aggregate destination-choice models).\n",
    "\n",
    "As this is a commonly used algorithm, we have implemented it in Cython, where\n",
    "we can take full advantage of multi-core CPUs. We have also implemented the ability\n",
    "of using both 32-bit and 64-bit floating-point seed matrices, which has direct impact\n",
    "on cache use and consequently computational performance.\n",
    "\n",
    "In this section, we compare the\n",
    "runtime of AequilibraE's current implementation of IPF, \n",
    "with a general IPF algorithm written in pure Python, available\n",
    "[here](https://github.com/joshchea/python-tdm/blob/master/scripts/CalcDistribution.py).\n",
    "\n",
    "The figure below compares AequilibraE's IPF runtime with one core with the benchmark Python\n",
    "code. From the figure below, we can notice that the runtimes were practically the same for the\n",
    "instances with 1,000 zones or less. As the number of zones increases, AequilibraE demonstrated to be slightly faster\n",
    "than the benchmark python code, while applying IPF to a 32-bit NumPy array (np.float32) was significantly faster.\n",
    "It's worth mentioning that\n",
    "the user can set up a threshold for AequilibraE's IPF function, as well as use more than one\n",
    "core to speed up the fitting process.\n",
    "\n",
    "![AequilibraE's IPF runtime](../images/ipf_runtime_aequilibrae_vs_benchmark.png)\n",
    "\n",
    "As IPF is an embarrassingly-parallel workload, it is more relevant to look at the performance of the\n",
    "AequilibraE implementations, starting by comparing the implementation performance for inputs in 32 vs 64\n",
    "bits using 32 threads.\n",
    "\n",
    "![AequilibraE's IPF runtime 32 vs 64 bits](../images/ipf_runtime_32vs64bits.png)\n",
    "\n",
    "The difference is staggering, with the 32-bit implementation being twice as fast as the 64-bit one for large matrices.\n",
    "It is also worth noting that differences in results between the outputs between these two versions are incredibly\n",
    "small (RMSE < 1.1e-10), and therefore unlikely to be relevant in most applications.\n",
    "\n",
    "We can also look at performance gain across matrix sizes and number of cores, and it becomes clear\n",
    "that the 32-bit version scales significantly better than its 64-bit counterpart, showing significant performance\n",
    "gains up to 16 threads, while the latter stops showing much improvement beyond 8 threads, likely due to limitations\n",
    "on cache size.\n",
    "\n",
    "![number of cores used in IPF for 64 bit matrices](../images/ipf_runtime_vs_num_cores.png)\n",
    "\n",
    "![number of cores used in IPF for 32 bit matrices](../images/ipf_runtime_vs_num_cores32bits.png)\n",
    "\n",
    "In conclusion, AequilibraE's IPF implementation is over 11 times faster than its pure Python counterpart for\n",
    "large matrices on a workstation, largely due to the use of Cython and multi-threading, but also due to the use of a\n",
    "32-bit version of the algorithm.\n",
    "\n",
    "These tests were run on a Threadripper 3970x (released in 2019) workstation with 32 cores (64 threads) @ 3.7 GHz\n",
    "and 256 Gb of RAM. The code is provided below for reference."
   ]
  },
  {
   "cell_type": "markdown",
   "id": "c29fb724",
   "metadata": {},
   "source": [
    "## Reference code"
   ]
  },
  {
   "cell_type": "code",
   "execution_count": 1,
   "id": "c8e6eff0b60946ec",
   "metadata": {
    "ExecuteTime": {
     "end_time": "2024-06-19T05:37:50.617052Z",
     "start_time": "2024-06-19T05:37:49.565829Z"
    }
   },
   "outputs": [],
   "source": [
    "from copy import deepcopy\n",
    "from time import perf_counter\n",
    "import numpy as np\n",
    "import pandas as pd\n",
    "from aequilibrae.distribution.ipf_core import ipf_core\n",
    "from tqdm import tqdm"
   ]
  },
  {
   "cell_type": "code",
   "execution_count": 2,
   "id": "a2fae5b4e201e661",
   "metadata": {
    "ExecuteTime": {
     "end_time": "2024-06-19T05:37:50.633094Z",
     "start_time": "2024-06-19T05:37:50.619052Z"
    }
   },
   "outputs": [],
   "source": [
    "# From:\n",
    "# https://github.com/joshchea/python-tdm/blob/master/scripts/CalcDistribution.py\n",
    "\n",
    "def CalcFratar(ProdA, AttrA, Trips1, maxIter=10):\n",
    "    '''Calculates fratar trip distribution\n",
    "       ProdA = Production target as array\n",
    "       AttrA = Attraction target as array\n",
    "       Trips1 = Seed trip table for fratar\n",
    "       maxIter (optional) = maximum iterations, default is 10\n",
    "       Returns fratared trip table\n",
    "    '''\n",
    "    # print('Checking production, attraction balancing:')\n",
    "    sumP = ProdA.sum()\n",
    "    sumA = AttrA.sum()\n",
    "    # print('Production: ', sumP)\n",
    "    # print('Attraction: ', sumA)\n",
    "    if sumP != sumA:\n",
    "        # print('Productions and attractions do not balance, attractions will be scaled to productions!')\n",
    "        AttrA = AttrA*(sumP/sumA)\n",
    "    else:\n",
    "        pass\n",
    "        # print('Production, attraction balancing OK.')\n",
    "    # Run 2D balancing --->\n",
    "    for balIter in range(0, maxIter):\n",
    "        ComputedProductions = Trips1.sum(1)\n",
    "        ComputedProductions[ComputedProductions == 0] = 1\n",
    "        OrigFac = (ProdA/ComputedProductions)\n",
    "        Trips1 = Trips1*OrigFac[:, np.newaxis]\n",
    "\n",
    "        ComputedAttractions = Trips1.sum(0)\n",
    "        ComputedAttractions[ComputedAttractions == 0] = 1\n",
    "        DestFac = (AttrA/ComputedAttractions)\n",
    "        Trips1 = Trips1*DestFac\n",
    "    return Trips1"
   ]
  },
  {
   "cell_type": "code",
   "execution_count": 3,
   "id": "dfb2c339048585ba",
   "metadata": {
    "ExecuteTime": {
     "end_time": "2024-06-19T05:37:50.648607Z",
     "start_time": "2024-06-19T05:37:50.635095Z"
    }
   },
   "outputs": [],
   "source": [
    "mat_sizes = [500, 750, 1000, 1500, 2500, 5000, 7500, 10000, 15000]"
   ]
  },
  {
   "cell_type": "code",
   "execution_count": 4,
   "id": "d58045ba6dcc6482",
   "metadata": {
    "ExecuteTime": {
     "end_time": "2024-06-19T06:37:49.435590Z",
     "start_time": "2024-06-19T05:37:50.649608Z"
    }
   },
   "outputs": [
    {
     "name": "stderr",
     "output_type": "stream",
     "text": [
      "Repetitions for zone size 500: 100%|██████████| 5/5 [00:01<00:00,  2.60it/s]\n",
      "Repetitions for zone size 750: 100%|██████████| 5/5 [00:04<00:00,  1.18it/s]\n",
      "Repetitions for zone size 1000: 100%|██████████| 5/5 [00:07<00:00,  1.57s/it]\n",
      "Repetitions for zone size 1500: 100%|██████████| 5/5 [00:19<00:00,  3.88s/it]\n",
      "Repetitions for zone size 2500: 100%|██████████| 5/5 [00:56<00:00, 11.24s/it]\n",
      "Repetitions for zone size 5000: 100%|██████████| 5/5 [03:44<00:00, 44.89s/it]\n",
      "Repetitions for zone size 7500: 100%|██████████| 5/5 [08:09<00:00, 97.89s/it]\n",
      "Repetitions for zone size 10000: 100%|██████████| 5/5 [14:11<00:00, 170.34s/it]\n",
      "Repetitions for zone size 15000: 100%|██████████| 5/5 [32:23<00:00, 388.70s/it]\n"
     ]
    }
   ],
   "source": [
    "#Benchmarking\n",
    "bench_data = []\n",
    "cores = 1\n",
    "repetitions = 5\n",
    "iterations = 100\n",
    "for zones in mat_sizes:\n",
    "    for repeat in tqdm(range(repetitions), f\"Repetitions for zone size {zones}\"):\n",
    "        mat1 = np.random.rand(zones, zones)\n",
    "        target_prod = np.random.rand(zones)\n",
    "        target_atra = np.random.rand(zones)\n",
    "        target_atra *= target_prod.sum()/target_atra.sum()\n",
    "\n",
    "        aeq_mat = deepcopy(mat1)\n",
    "        # We use a nonsensical negative tolerance to force it to run all iterations\n",
    "        # and set warning for non-convergence to false, as we know it won't converge\n",
    "        t = perf_counter()\n",
    "        ipf_core(aeq_mat, target_prod, target_atra, max_iterations=iterations, tolerance=-5, cores=cores, warn=False)\n",
    "        aeqt = perf_counter() - t\n",
    "\n",
    "        aeq_mat32 = np.array(mat1, np.float32)\n",
    "        # We now run the same thing with a seed matrix in single-precision (float 32 bits) instead of double as above (64 bits)\n",
    "        t = perf_counter()\n",
    "        ipf_core(aeq_mat32, target_prod, target_atra, max_iterations=iterations, tolerance=-5, cores=cores, warn=False)\n",
    "        aeqt2 = perf_counter() - t\n",
    "        \n",
    "        bc_mat = deepcopy(mat1)\n",
    "        t = perf_counter()\n",
    "        x = CalcFratar(target_prod, target_atra, bc_mat, maxIter=iterations)\n",
    "\n",
    "        bench_data.append([zones, perf_counter() - t, aeqt, aeqt2])"
   ]
  },
  {
   "cell_type": "code",
   "execution_count": 5,
   "id": "31862ad04f2c51ed",
   "metadata": {
    "ExecuteTime": {
     "end_time": "2024-06-19T06:37:50.012950Z",
     "start_time": "2024-06-19T06:37:49.437595Z"
    }
   },
   "outputs": [
    {
     "data": {
      "text/plain": [
       "<Axes: xlabel='Zones in the model'>"
      ]
     },
     "execution_count": 5,
     "metadata": {},
     "output_type": "execute_result"
    },
    {
     "data": {
      "image/png": "[encoded data removed]",
      "text/plain": [
       "<Figure size 640x480 with 1 Axes>"
      ]
     },
     "metadata": {},
     "output_type": "display_data"
    }
   ],
   "source": [
    "bench_df = pd.DataFrame(bench_data, columns=[\"Zones in the model\", \"PythonCode\", \"AequilibraE\", \"AequilibraE-32bits\"])\n",
    "bench_df.groupby([\"Zones in the model\"]).mean().plot.bar()"
   ]
  },
  {
   "cell_type": "code",
   "execution_count": 14,
   "id": "67b400746b37a982",
   "metadata": {
    "ExecuteTime": {
     "end_time": "2024-06-19T06:58:38.158746Z",
     "start_time": "2024-06-19T06:58:38.135771Z"
    }
   },
   "outputs": [
    {
     "data": {
      "text/html": [
       "<div>\n",
       "<style scoped>\n",
       "    .dataframe tbody tr th:only-of-type {\n",
       "        vertical-align: middle;\n",
       "    }\n",
       "\n",
       "    .dataframe tbody tr th {\n",
       "        vertical-align: top;\n",
       "    }\n",
       "\n",
       "    .dataframe thead th {\n",
       "        text-align: right;\n",
       "    }\n",
       "</style>\n",
       "<table border=\"1\" class=\"dataframe\">\n",
       "  <thead>\n",
       "    <tr style=\"text-align: right;\">\n",
       "      <th></th>\n",
       "      <th>PythonCode</th>\n",
       "      <th>AequilibraE</th>\n",
       "      <th>AequilibraE-32bits</th>\n",
       "    </tr>\n",
       "    <tr>\n",
       "      <th>Zones in the model</th>\n",
       "      <th></th>\n",
       "      <th></th>\n",
       "      <th></th>\n",
       "    </tr>\n",
       "  </thead>\n",
       "  <tbody>\n",
       "    <tr>\n",
       "      <th>500</th>\n",
       "      <td>0.103166</td>\n",
       "      <td>0.140051</td>\n",
       "      <td>0.137266</td>\n",
       "    </tr>\n",
       "    <tr>\n",
       "      <th>750</th>\n",
       "      <td>0.241757</td>\n",
       "      <td>0.302931</td>\n",
       "      <td>0.297389</td>\n",
       "    </tr>\n",
       "    <tr>\n",
       "      <th>1000</th>\n",
       "      <td>0.513984</td>\n",
       "      <td>0.529727</td>\n",
       "      <td>0.516339</td>\n",
       "    </tr>\n",
       "    <tr>\n",
       "      <th>1500</th>\n",
       "      <td>1.416848</td>\n",
       "      <td>1.276844</td>\n",
       "      <td>1.156637</td>\n",
       "    </tr>\n",
       "    <tr>\n",
       "      <th>2500</th>\n",
       "      <td>4.253563</td>\n",
       "      <td>3.581645</td>\n",
       "      <td>3.333664</td>\n",
       "    </tr>\n",
       "    <tr>\n",
       "      <th>5000</th>\n",
       "      <td>17.059166</td>\n",
       "      <td>14.288760</td>\n",
       "      <td>13.257936</td>\n",
       "    </tr>\n",
       "    <tr>\n",
       "      <th>7500</th>\n",
       "      <td>35.568686</td>\n",
       "      <td>32.021563</td>\n",
       "      <td>29.666000</td>\n",
       "    </tr>\n",
       "    <tr>\n",
       "      <th>10000</th>\n",
       "      <td>59.030967</td>\n",
       "      <td>57.028204</td>\n",
       "      <td>53.155270</td>\n",
       "    </tr>\n",
       "    <tr>\n",
       "      <th>15000</th>\n",
       "      <td>134.895915</td>\n",
       "      <td>130.652199</td>\n",
       "      <td>120.535656</td>\n",
       "    </tr>\n",
       "  </tbody>\n",
       "</table>\n",
       "</div>"
      ],
      "text/plain": [
       "                    PythonCode  AequilibraE  AequilibraE-32bits\n",
       "Zones in the model                                             \n",
       "500                   0.103166     0.140051            0.137266\n",
       "750                   0.241757     0.302931            0.297389\n",
       "1000                  0.513984     0.529727            0.516339\n",
       "1500                  1.416848     1.276844            1.156637\n",
       "2500                  4.253563     3.581645            3.333664\n",
       "5000                 17.059166    14.288760           13.257936\n",
       "7500                 35.568686    32.021563           29.666000\n",
       "10000                59.030967    57.028204           53.155270\n",
       "15000               134.895915   130.652199          120.535656"
      ]
     },
     "execution_count": 14,
     "metadata": {},
     "output_type": "execute_result"
    }
   ],
   "source": [
    "bench_df.groupby([\"Zones in the model\"]).mean()"
   ]
  },
  {
   "cell_type": "code",
   "execution_count": 16,
   "id": "524dca0f9d0f3353",
   "metadata": {
    "ExecuteTime": {
     "end_time": "2024-06-19T07:14:04.976510Z",
     "start_time": "2024-06-19T07:07:58.058009Z"
    }
   },
   "outputs": [
    {
     "name": "stderr",
     "output_type": "stream",
     "text": [
      "Repetitions for zone size 500: 100%|██████████| 5/5 [00:01<00:00,  2.70it/s]\n",
      "Repetitions for zone size 750: 100%|██████████| 5/5 [00:01<00:00,  2.64it/s]\n",
      "Repetitions for zone size 1000: 100%|██████████| 5/5 [00:02<00:00,  2.37it/s]\n",
      "Repetitions for zone size 1500: 100%|██████████| 5/5 [00:03<00:00,  1.61it/s]\n",
      "Repetitions for zone size 2500: 100%|██████████| 5/5 [00:07<00:00,  1.41s/it]\n",
      "Repetitions for zone size 5000: 100%|██████████| 5/5 [00:24<00:00,  4.91s/it]\n",
      "Repetitions for zone size 7500: 100%|██████████| 5/5 [00:49<00:00,  9.96s/it]\n",
      "Repetitions for zone size 10000: 100%|██████████| 5/5 [01:26<00:00, 17.29s/it]\n",
      "Repetitions for zone size 15000: 100%|██████████| 5/5 [03:10<00:00, 38.02s/it]\n"
     ]
    }
   ],
   "source": [
    "#Benchmarking 32 threads\n",
    "bench_data_parallel = []\n",
    "cores = 32\n",
    "repetitions = 5\n",
    "iterations = 100\n",
    "for zones in mat_sizes:\n",
    "    for repeat in tqdm(range(repetitions), f\"Repetitions for zone size {zones}\"):\n",
    "        mat1 = np.random.rand(zones, zones)\n",
    "        target_prod = np.random.rand(zones)\n",
    "        target_atra = np.random.rand(zones)\n",
    "        target_atra *= target_prod.sum()/target_atra.sum()\n",
    "\n",
    "        aeq_mat = deepcopy(mat1)\n",
    "        # We use a nonsensical negative tolerance to force it to run all iterations\n",
    "        # and set warning for non-convergence to false, as we know it won't converge\n",
    "        t = perf_counter()\n",
    "        ipf_core(aeq_mat, target_prod, target_atra, max_iterations=iterations, tolerance=-5, cores=cores, warn=False)\n",
    "        aeqt = perf_counter() - t\n",
    "\n",
    "        aeq_mat32 = np.array(mat1, np.float32)\n",
    "        # We now run the same thing with a seed matrix in single-precision (float 32 bits) instead of double as above (64 bits)\n",
    "        t = perf_counter()\n",
    "        ipf_core(aeq_mat32, target_prod, target_atra, max_iterations=iterations, tolerance=-5, cores=cores, warn=False)\n",
    "        aeqt2 = perf_counter() - t\n",
    "        \n",
    "        rmse = np.sqrt(np.mean((aeq_mat-aeq_mat32)**2))\n",
    "\n",
    "        bench_data_parallel.append([zones, aeqt, aeqt2, rmse])"
   ]
  },
  {
   "cell_type": "code",
   "execution_count": 17,
   "id": "8138e3caae7ce33",
   "metadata": {
    "ExecuteTime": {
     "end_time": "2024-06-19T07:14:05.147682Z",
     "start_time": "2024-06-19T07:14:04.979512Z"
    }
   },
   "outputs": [
    {
     "data": {
      "text/plain": [
       "<Axes: xlabel='Zones in the model'>"
      ]
     },
     "execution_count": 17,
     "metadata": {},
     "output_type": "execute_result"
    },
    {
     "data": {
      "image/png": "[encoded data removed]",
      "text/plain": [
       "<Figure size 640x480 with 1 Axes>"
      ]
     },
     "metadata": {},
     "output_type": "display_data"
    }
   ],
   "source": [
    "bench_df_parallel = pd.DataFrame(bench_data_parallel, columns=[\"Zones in the model\", \"AequilibraE\", \"AequilibraE-32bits\", \"rmse\"])\n",
    "bench_df_parallel.groupby([\"Zones in the model\"]).mean()[[ \"AequilibraE\", \"AequilibraE-32bits\"]].plot.bar()"
   ]
  },
  {
   "cell_type": "code",
   "execution_count": 18,
   "id": "482e57c1428326b9",
   "metadata": {
    "ExecuteTime": {
     "end_time": "2024-06-19T07:14:05.163685Z",
     "start_time": "2024-06-19T07:14:05.149682Z"
    }
   },
   "outputs": [
    {
     "data": {
      "text/html": [
       "<div>\n",
       "<style scoped>\n",
       "    .dataframe tbody tr th:only-of-type {\n",
       "        vertical-align: middle;\n",
       "    }\n",
       "\n",
       "    .dataframe tbody tr th {\n",
       "        vertical-align: top;\n",
       "    }\n",
       "\n",
       "    .dataframe thead th {\n",
       "        text-align: right;\n",
       "    }\n",
       "</style>\n",
       "<table border=\"1\" class=\"dataframe\">\n",
       "  <thead>\n",
       "    <tr style=\"text-align: right;\">\n",
       "      <th></th>\n",
       "      <th>AequilibraE</th>\n",
       "      <th>AequilibraE-32bits</th>\n",
       "      <th>rmse</th>\n",
       "    </tr>\n",
       "    <tr>\n",
       "      <th>Zones in the model</th>\n",
       "      <th></th>\n",
       "      <th></th>\n",
       "      <th></th>\n",
       "    </tr>\n",
       "  </thead>\n",
       "  <tbody>\n",
       "    <tr>\n",
       "      <th>500</th>\n",
       "      <td>0.170232</td>\n",
       "      <td>0.172460</td>\n",
       "      <td>1.080659e-10</td>\n",
       "    </tr>\n",
       "    <tr>\n",
       "      <th>750</th>\n",
       "      <td>0.183474</td>\n",
       "      <td>0.183857</td>\n",
       "      <td>7.100473e-11</td>\n",
       "    </tr>\n",
       "    <tr>\n",
       "      <th>1000</th>\n",
       "      <td>0.211237</td>\n",
       "      <td>0.191961</td>\n",
       "      <td>5.137420e-11</td>\n",
       "    </tr>\n",
       "    <tr>\n",
       "      <th>1500</th>\n",
       "      <td>0.322709</td>\n",
       "      <td>0.252115</td>\n",
       "      <td>3.358886e-11</td>\n",
       "    </tr>\n",
       "    <tr>\n",
       "      <th>2500</th>\n",
       "      <td>0.779715</td>\n",
       "      <td>0.522037</td>\n",
       "      <td>2.036197e-11</td>\n",
       "    </tr>\n",
       "    <tr>\n",
       "      <th>5000</th>\n",
       "      <td>2.745004</td>\n",
       "      <td>1.760100</td>\n",
       "      <td>9.588117e-12</td>\n",
       "    </tr>\n",
       "    <tr>\n",
       "      <th>7500</th>\n",
       "      <td>5.900431</td>\n",
       "      <td>3.170006</td>\n",
       "      <td>6.258958e-12</td>\n",
       "    </tr>\n",
       "    <tr>\n",
       "      <th>10000</th>\n",
       "      <td>10.255305</td>\n",
       "      <td>5.456631</td>\n",
       "      <td>4.733115e-12</td>\n",
       "    </tr>\n",
       "    <tr>\n",
       "      <th>15000</th>\n",
       "      <td>22.618665</td>\n",
       "      <td>11.860497</td>\n",
       "      <td>3.102268e-12</td>\n",
       "    </tr>\n",
       "  </tbody>\n",
       "</table>\n",
       "</div>"
      ],
      "text/plain": [
       "                    AequilibraE  AequilibraE-32bits          rmse\n",
       "Zones in the model                                               \n",
       "500                    0.170232            0.172460  1.080659e-10\n",
       "750                    0.183474            0.183857  7.100473e-11\n",
       "1000                   0.211237            0.191961  5.137420e-11\n",
       "1500                   0.322709            0.252115  3.358886e-11\n",
       "2500                   0.779715            0.522037  2.036197e-11\n",
       "5000                   2.745004            1.760100  9.588117e-12\n",
       "7500                   5.900431            3.170006  6.258958e-12\n",
       "10000                 10.255305            5.456631  4.733115e-12\n",
       "15000                 22.618665           11.860497  3.102268e-12"
      ]
     },
     "execution_count": 18,
     "metadata": {},
     "output_type": "execute_result"
    }
   ],
   "source": [
    "bench_df_parallel.groupby([\"Zones in the model\"]).mean()"
   ]
  },
  {
   "cell_type": "code",
   "execution_count": 9,
   "id": "2b5c7bcf669261b8",
   "metadata": {
    "ExecuteTime": {
     "end_time": "2024-06-19T06:43:40.730519Z",
     "start_time": "2024-06-19T06:43:40.716519Z"
    }
   },
   "outputs": [],
   "source": [
    "cores_to_use = [1, 2, 4, 8, 16, 32]"
   ]
  },
  {
   "cell_type": "code",
   "execution_count": 10,
   "id": "99a70a4322bbd33c",
   "metadata": {
    "ExecuteTime": {
     "end_time": "2024-06-19T06:48:05.373928Z",
     "start_time": "2024-06-19T06:43:40.732519Z"
    }
   },
   "outputs": [
    {
     "name": "stderr",
     "output_type": "stream",
     "text": [
      "Zone size: 500: 100%|██████████| 6/6 [00:00<00:00, 12.14it/s]\n",
      "Zone size: 750: 100%|██████████| 6/6 [00:00<00:00, 10.20it/s]\n",
      "Zone size: 1000: 100%|██████████| 6/6 [00:00<00:00,  6.87it/s]\n",
      "Zone size: 1500: 100%|██████████| 6/6 [00:01<00:00,  3.42it/s]\n",
      "Zone size: 2500: 100%|██████████| 6/6 [00:04<00:00,  1.32it/s]\n",
      "Zone size: 5000: 100%|██████████| 6/6 [00:16<00:00,  2.73s/it]\n",
      "Zone size: 7500: 100%|██████████| 6/6 [00:35<00:00,  5.93s/it]\n",
      "Zone size: 10000: 100%|██████████| 6/6 [01:02<00:00, 10.46s/it]\n",
      "Zone size: 15000: 100%|██████████| 6/6 [02:21<00:00, 23.62s/it]\n"
     ]
    }
   ],
   "source": [
    "aeq_data = []\n",
    "repetitions = 1\n",
    "iterations = 50\n",
    "for zones in mat_sizes:\n",
    "    for cores in tqdm(cores_to_use,f\"Zone size: {zones}\"):\n",
    "        for repeat in range(repetitions):\n",
    "            mat1 = np.random.rand(zones, zones)\n",
    "            target_prod = np.random.rand(zones)\n",
    "            target_atra = np.random.rand(zones)\n",
    "            target_atra *= target_prod.sum()/target_atra.sum()\n",
    "\n",
    "            aeq_mat = np.array(deepcopy(mat1), np.float32)\n",
    "            t = perf_counter()\n",
    "            ipf_core(aeq_mat, target_prod, target_atra, max_iterations=iterations, tolerance=-5, cores=cores, warn=False)\n",
    "            aeqt = perf_counter() - t\n",
    "\n",
    "            aeq_data.append([zones, cores, aeqt])"
   ]
  },
  {
   "cell_type": "code",
   "execution_count": 19,
   "id": "9214dd7aac545be5",
   "metadata": {
    "ExecuteTime": {
     "end_time": "2024-06-19T07:17:34.397520Z",
     "start_time": "2024-06-19T07:17:34.211779Z"
    }
   },
   "outputs": [
    {
     "data": {
      "text/html": [
       "<div>\n",
       "<style scoped>\n",
       "    .dataframe tbody tr th:only-of-type {\n",
       "        vertical-align: middle;\n",
       "    }\n",
       "\n",
       "    .dataframe tbody tr th {\n",
       "        vertical-align: top;\n",
       "    }\n",
       "\n",
       "    .dataframe thead th {\n",
       "        text-align: right;\n",
       "    }\n",
       "</style>\n",
       "<table border=\"1\" class=\"dataframe\">\n",
       "  <thead>\n",
       "    <tr style=\"text-align: right;\">\n",
       "      <th>cores</th>\n",
       "      <th>1</th>\n",
       "      <th>2</th>\n",
       "      <th>4</th>\n",
       "      <th>8</th>\n",
       "      <th>16</th>\n",
       "      <th>32</th>\n",
       "    </tr>\n",
       "    <tr>\n",
       "      <th>zones</th>\n",
       "      <th></th>\n",
       "      <th></th>\n",
       "      <th></th>\n",
       "      <th></th>\n",
       "      <th></th>\n",
       "      <th></th>\n",
       "    </tr>\n",
       "  </thead>\n",
       "  <tbody>\n",
       "    <tr>\n",
       "      <th>1500</th>\n",
       "      <td>1.0</td>\n",
       "      <td>0.563866</td>\n",
       "      <td>0.426711</td>\n",
       "      <td>0.270452</td>\n",
       "      <td>0.191147</td>\n",
       "      <td>0.213856</td>\n",
       "    </tr>\n",
       "    <tr>\n",
       "      <th>2500</th>\n",
       "      <td>1.0</td>\n",
       "      <td>0.527781</td>\n",
       "      <td>0.375033</td>\n",
       "      <td>0.249776</td>\n",
       "      <td>0.156473</td>\n",
       "      <td>0.157657</td>\n",
       "    </tr>\n",
       "    <tr>\n",
       "      <th>5000</th>\n",
       "      <td>1.0</td>\n",
       "      <td>0.510183</td>\n",
       "      <td>0.278150</td>\n",
       "      <td>0.174469</td>\n",
       "      <td>0.143175</td>\n",
       "      <td>0.134064</td>\n",
       "    </tr>\n",
       "    <tr>\n",
       "      <th>7500</th>\n",
       "      <td>1.0</td>\n",
       "      <td>0.508706</td>\n",
       "      <td>0.265835</td>\n",
       "      <td>0.157217</td>\n",
       "      <td>0.125007</td>\n",
       "      <td>0.107014</td>\n",
       "    </tr>\n",
       "    <tr>\n",
       "      <th>10000</th>\n",
       "      <td>1.0</td>\n",
       "      <td>0.507172</td>\n",
       "      <td>0.266192</td>\n",
       "      <td>0.154844</td>\n",
       "      <td>0.120771</td>\n",
       "      <td>0.103968</td>\n",
       "    </tr>\n",
       "    <tr>\n",
       "      <th>15000</th>\n",
       "      <td>1.0</td>\n",
       "      <td>0.504696</td>\n",
       "      <td>0.259933</td>\n",
       "      <td>0.152394</td>\n",
       "      <td>0.115052</td>\n",
       "      <td>0.101344</td>\n",
       "    </tr>\n",
       "  </tbody>\n",
       "</table>\n",
       "</div>"
      ],
      "text/plain": [
       "cores   1         2         4         8         16        32\n",
       "zones                                                       \n",
       "1500   1.0  0.563866  0.426711  0.270452  0.191147  0.213856\n",
       "2500   1.0  0.527781  0.375033  0.249776  0.156473  0.157657\n",
       "5000   1.0  0.510183  0.278150  0.174469  0.143175  0.134064\n",
       "7500   1.0  0.508706  0.265835  0.157217  0.125007  0.107014\n",
       "10000  1.0  0.507172  0.266192  0.154844  0.120771  0.103968\n",
       "15000  1.0  0.504696  0.259933  0.152394  0.115052  0.101344"
      ]
     },
     "execution_count": 19,
     "metadata": {},
     "output_type": "execute_result"
    },
    {
     "data": {
      "image/png": "[encoded data removed]",
      "text/plain": [
       "<Figure size 640x480 with 1 Axes>"
      ]
     },
     "metadata": {},
     "output_type": "display_data"
    }
   ],
   "source": [
    "aeq_df = pd.DataFrame(aeq_data, columns=[\"zones\", \"cores\", \"time\"])\n",
    "aeq_df = aeq_df[aeq_df.zones>1000]\n",
    "aeq_df = aeq_df.groupby([\"zones\", \"cores\"]).mean().reset_index()\n",
    "aeq_df = aeq_df.pivot_table(index=\"zones\", columns=\"cores\", values=\"time\")\n",
    "for cores in cores_to_use[::-1]:\n",
    "    aeq_df.loc[:, cores] /= aeq_df[1]\n",
    "aeq_df.transpose().plot()\n",
    "aeq_df"
   ]
  },
  {
   "cell_type": "code",
   "execution_count": 20,
   "id": "fbadd6fc04473fe3",
   "metadata": {
    "ExecuteTime": {
     "end_time": "2024-06-19T07:23:09.782952Z",
     "start_time": "2024-06-19T07:17:56.541861Z"
    }
   },
   "outputs": [
    {
     "name": "stderr",
     "output_type": "stream",
     "text": [
      "Zone size: 500: 100%|██████████| 6/6 [00:00<00:00, 12.51it/s]\n",
      "Zone size: 750: 100%|██████████| 6/6 [00:00<00:00,  9.19it/s]\n",
      "Zone size: 1000: 100%|██████████| 6/6 [00:00<00:00,  6.50it/s]\n",
      "Zone size: 1500: 100%|██████████| 6/6 [00:01<00:00,  3.07it/s]\n",
      "Zone size: 2500: 100%|██████████| 6/6 [00:05<00:00,  1.17it/s]\n",
      "Zone size: 5000: 100%|██████████| 6/6 [00:18<00:00,  3.14s/it]\n",
      "Zone size: 7500: 100%|██████████| 6/6 [00:42<00:00,  7.10s/it]\n",
      "Zone size: 10000: 100%|██████████| 6/6 [01:15<00:00, 12.51s/it]\n",
      "Zone size: 15000: 100%|██████████| 6/6 [02:47<00:00, 27.93s/it]\n"
     ]
    }
   ],
   "source": [
    "aeq_data = []\n",
    "repetitions = 1\n",
    "iterations = 50\n",
    "for zones in mat_sizes:\n",
    "    for cores in tqdm(cores_to_use,f\"Zone size: {zones}\"):\n",
    "        for repeat in range(repetitions):\n",
    "            mat1 = np.random.rand(zones, zones)\n",
    "            target_prod = np.random.rand(zones)\n",
    "            target_atra = np.random.rand(zones)\n",
    "            target_atra *= target_prod.sum()/target_atra.sum()\n",
    "\n",
    "            aeq_mat = np.array(deepcopy(mat1), np.float64)\n",
    "            t = perf_counter()\n",
    "            ipf_core(aeq_mat, target_prod, target_atra, max_iterations=iterations, tolerance=-5, cores=cores, warn=False)\n",
    "            aeqt = perf_counter() - t\n",
    "\n",
    "            aeq_data.append([zones, cores, aeqt])"
   ]
  },
  {
   "cell_type": "code",
   "execution_count": 21,
   "id": "44835daecfe647ae",
   "metadata": {
    "ExecuteTime": {
     "end_time": "2024-06-19T07:23:09.982959Z",
     "start_time": "2024-06-19T07:23:09.785952Z"
    }
   },
   "outputs": [
    {
     "data": {
      "text/html": [
       "<div>\n",
       "<style scoped>\n",
       "    .dataframe tbody tr th:only-of-type {\n",
       "        vertical-align: middle;\n",
       "    }\n",
       "\n",
       "    .dataframe tbody tr th {\n",
       "        vertical-align: top;\n",
       "    }\n",
       "\n",
       "    .dataframe thead th {\n",
       "        text-align: right;\n",
       "    }\n",
       "</style>\n",
       "<table border=\"1\" class=\"dataframe\">\n",
       "  <thead>\n",
       "    <tr style=\"text-align: right;\">\n",
       "      <th>cores</th>\n",
       "      <th>1</th>\n",
       "      <th>2</th>\n",
       "      <th>4</th>\n",
       "      <th>8</th>\n",
       "      <th>16</th>\n",
       "      <th>32</th>\n",
       "    </tr>\n",
       "    <tr>\n",
       "      <th>zones</th>\n",
       "      <th></th>\n",
       "      <th></th>\n",
       "      <th></th>\n",
       "      <th></th>\n",
       "      <th></th>\n",
       "      <th></th>\n",
       "    </tr>\n",
       "  </thead>\n",
       "  <tbody>\n",
       "    <tr>\n",
       "      <th>1500</th>\n",
       "      <td>1.0</td>\n",
       "      <td>0.559114</td>\n",
       "      <td>0.408111</td>\n",
       "      <td>0.250297</td>\n",
       "      <td>0.216308</td>\n",
       "      <td>0.255603</td>\n",
       "    </tr>\n",
       "    <tr>\n",
       "      <th>2500</th>\n",
       "      <td>1.0</td>\n",
       "      <td>0.526490</td>\n",
       "      <td>0.359411</td>\n",
       "      <td>0.255447</td>\n",
       "      <td>0.203943</td>\n",
       "      <td>0.232535</td>\n",
       "    </tr>\n",
       "    <tr>\n",
       "      <th>5000</th>\n",
       "      <td>1.0</td>\n",
       "      <td>0.517601</td>\n",
       "      <td>0.311059</td>\n",
       "      <td>0.216065</td>\n",
       "      <td>0.195720</td>\n",
       "      <td>0.187223</td>\n",
       "    </tr>\n",
       "    <tr>\n",
       "      <th>7500</th>\n",
       "      <td>1.0</td>\n",
       "      <td>0.528070</td>\n",
       "      <td>0.303304</td>\n",
       "      <td>0.221032</td>\n",
       "      <td>0.200886</td>\n",
       "      <td>0.189343</td>\n",
       "    </tr>\n",
       "    <tr>\n",
       "      <th>10000</th>\n",
       "      <td>1.0</td>\n",
       "      <td>0.520901</td>\n",
       "      <td>0.301453</td>\n",
       "      <td>0.209669</td>\n",
       "      <td>0.181450</td>\n",
       "      <td>0.174836</td>\n",
       "    </tr>\n",
       "    <tr>\n",
       "      <th>15000</th>\n",
       "      <td>1.0</td>\n",
       "      <td>0.520769</td>\n",
       "      <td>0.307402</td>\n",
       "      <td>0.208882</td>\n",
       "      <td>0.180139</td>\n",
       "      <td>0.176024</td>\n",
       "    </tr>\n",
       "  </tbody>\n",
       "</table>\n",
       "</div>"
      ],
      "text/plain": [
       "cores   1         2         4         8         16        32\n",
       "zones                                                       \n",
       "1500   1.0  0.559114  0.408111  0.250297  0.216308  0.255603\n",
       "2500   1.0  0.526490  0.359411  0.255447  0.203943  0.232535\n",
       "5000   1.0  0.517601  0.311059  0.216065  0.195720  0.187223\n",
       "7500   1.0  0.528070  0.303304  0.221032  0.200886  0.189343\n",
       "10000  1.0  0.520901  0.301453  0.209669  0.181450  0.174836\n",
       "15000  1.0  0.520769  0.307402  0.208882  0.180139  0.176024"
      ]
     },
     "execution_count": 21,
     "metadata": {},
     "output_type": "execute_result"
    },
    {
     "data": {
      "image/png": "[encoded data removed]",
      "text/plain": [
       "<Figure size 640x480 with 1 Axes>"
      ]
     },
     "metadata": {},
     "output_type": "display_data"
    }
   ],
   "source": [
    "aeq_df = pd.DataFrame(aeq_data, columns=[\"zones\", \"cores\", \"time\"])\n",
    "aeq_df = aeq_df[aeq_df.zones>1000]\n",
    "aeq_df = aeq_df.groupby([\"zones\", \"cores\"]).mean().reset_index()\n",
    "aeq_df = aeq_df.pivot_table(index=\"zones\", columns=\"cores\", values=\"time\")\n",
    "for cores in cores_to_use[::-1]:\n",
    "    aeq_df.loc[:, cores] /= aeq_df[1]\n",
    "aeq_df.transpose().plot()\n",
    "aeq_df"
   ]
  }
 ],
 "metadata": {
  "kernelspec": {
   "display_name": "Python 3",
   "language": "python",
   "name": "python3"
  },
  "language_info": {
   "codemirror_mode": {
    "name": "ipython",
    "version": 2
   },
   "file_extension": ".py",
   "mimetype": "text/x-python",
   "name": "python",
   "nbconvert_exporter": "python",
   "pygments_lexer": "ipython2",
   "version": "2.7.6"
  }
 },
 "nbformat": 4,
 "nbformat_minor": 5
}
